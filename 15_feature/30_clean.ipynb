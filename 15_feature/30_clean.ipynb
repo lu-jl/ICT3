{
 "cells": [
  {
   "cell_type": "markdown",
   "id": "arranged-explorer",
   "metadata": {},
   "source": [
    "# 数据清洗"
   ]
  },
  {
   "cell_type": "markdown",
   "id": "entitled-distribution",
   "metadata": {},
   "source": [
    "## 唯一性"
   ]
  },
  {
   "cell_type": "markdown",
   "id": "confidential-discovery",
   "metadata": {},
   "source": [
    "### 重复行"
   ]
  },
  {
   "cell_type": "code",
   "execution_count": 7,
   "id": "conventional-instruction",
   "metadata": {},
   "outputs": [
    {
     "data": {
      "text/plain": [
       "(891, 12)"
      ]
     },
     "execution_count": 7,
     "metadata": {},
     "output_type": "execute_result"
    }
   ],
   "source": [
    "import numpy as np\n",
    "import pandas as pd\n",
    "import matplotlib.pyplot as plt\n",
    "import seaborn as sns\n",
    "import os\n",
    "\n",
    "DATA_FOLDER = '../95_data/titanic-dataset/'\n",
    "train = pd.read_csv(os.path.join(DATA_FOLDER, 'train.csv'))\n",
    "test = pd.read_csv(os.path.join(DATA_FOLDER, 'test.csv'))\n",
    "train.head(8)\n",
    "train.shape"
   ]
  },
  {
   "cell_type": "code",
   "execution_count": 9,
   "id": "deadly-mattress",
   "metadata": {},
   "outputs": [
    {
     "data": {
      "text/plain": [
       "(891, 12)"
      ]
     },
     "execution_count": 9,
     "metadata": {},
     "output_type": "execute_result"
    }
   ],
   "source": [
    "train.T.drop_duplicates()\n",
    "train.shape"
   ]
  },
  {
   "cell_type": "markdown",
   "id": "polyphonic-entry",
   "metadata": {},
   "source": [
    "### 重复列"
   ]
  },
  {
   "cell_type": "code",
   "execution_count": 11,
   "id": "studied-advisory",
   "metadata": {},
   "outputs": [
    {
     "data": {
      "text/plain": [
       "(891, 12)"
      ]
     },
     "execution_count": 11,
     "metadata": {},
     "output_type": "execute_result"
    }
   ],
   "source": [
    "train.T.drop_duplicates()\n",
    "train.shape"
   ]
  }
 ],
 "metadata": {
  "kernelspec": {
   "display_name": "Python 3",
   "language": "python",
   "name": "python3"
  },
  "language_info": {
   "codemirror_mode": {
    "name": "ipython",
    "version": 3
   },
   "file_extension": ".py",
   "mimetype": "text/x-python",
   "name": "python",
   "nbconvert_exporter": "python",
   "pygments_lexer": "ipython3",
   "version": "3.9.2"
  }
 },
 "nbformat": 4,
 "nbformat_minor": 5
}
