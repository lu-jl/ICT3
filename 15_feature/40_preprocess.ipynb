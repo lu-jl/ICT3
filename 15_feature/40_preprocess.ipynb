{
 "cells": [
  {
   "cell_type": "markdown",
   "source": [
    "# Preprocess Example\n",
    "本Notebook展示简易的数据预处理方法"
   ],
   "metadata": {}
  },
  {
   "cell_type": "code",
   "execution_count": 7,
   "source": [
    "# 基础库\n",
    "# 前两行画图\n",
    "%matplotlib inline\n",
    "import matplotlib.pyplot as plt\n",
    "\n",
    "# 数据处理\n",
    "import numpy as np\n",
    "import pandas as pd\n",
    "\n",
    "# 系统库\n",
    "import os, sys\n",
    "\n",
    "# 自带数据\n",
    "datalib_path = os.path.join(os.path.abspath('.'), '../')\n",
    "sys.path.append(datalib_path)\n",
    "import dataset\n",
    "\n",
    "# 忽略warning\n",
    "import warnings\n",
    "warnings.filterwarnings('ignore')\n",
    "\n",
    "# sklearn\n",
    "from sklearn import preprocessing\n",
    "# import seaborn"
   ],
   "outputs": [],
   "metadata": {}
  },
  {
   "cell_type": "code",
   "execution_count": 8,
   "source": [
    "# load data\n",
    "train = pd.read_csv(os.path.join(dataset.titanic_path, 'train.csv'))\n",
    "test = pd.read_csv(os.path.join(dataset.titanic_path, 'test.csv'))\n",
    "\n",
    "train.head()"
   ],
   "outputs": [
    {
     "output_type": "execute_result",
     "data": {
      "text/html": [
       "<div>\n",
       "<style scoped>\n",
       "    .dataframe tbody tr th:only-of-type {\n",
       "        vertical-align: middle;\n",
       "    }\n",
       "\n",
       "    .dataframe tbody tr th {\n",
       "        vertical-align: top;\n",
       "    }\n",
       "\n",
       "    .dataframe thead th {\n",
       "        text-align: right;\n",
       "    }\n",
       "</style>\n",
       "<table border=\"1\" class=\"dataframe\">\n",
       "  <thead>\n",
       "    <tr style=\"text-align: right;\">\n",
       "      <th></th>\n",
       "      <th>PassengerId</th>\n",
       "      <th>Survived</th>\n",
       "      <th>Pclass</th>\n",
       "      <th>Name</th>\n",
       "      <th>Sex</th>\n",
       "      <th>Age</th>\n",
       "      <th>SibSp</th>\n",
       "      <th>Parch</th>\n",
       "      <th>Ticket</th>\n",
       "      <th>Fare</th>\n",
       "      <th>Cabin</th>\n",
       "      <th>Embarked</th>\n",
       "    </tr>\n",
       "  </thead>\n",
       "  <tbody>\n",
       "    <tr>\n",
       "      <td>0</td>\n",
       "      <td>1</td>\n",
       "      <td>0</td>\n",
       "      <td>3</td>\n",
       "      <td>Braund, Mr. Owen Harris</td>\n",
       "      <td>male</td>\n",
       "      <td>22.0</td>\n",
       "      <td>1</td>\n",
       "      <td>0</td>\n",
       "      <td>A/5 21171</td>\n",
       "      <td>7.2500</td>\n",
       "      <td>NaN</td>\n",
       "      <td>S</td>\n",
       "    </tr>\n",
       "    <tr>\n",
       "      <td>1</td>\n",
       "      <td>2</td>\n",
       "      <td>1</td>\n",
       "      <td>1</td>\n",
       "      <td>Cumings, Mrs. John Bradley (Florence Briggs Th...</td>\n",
       "      <td>female</td>\n",
       "      <td>38.0</td>\n",
       "      <td>1</td>\n",
       "      <td>0</td>\n",
       "      <td>PC 17599</td>\n",
       "      <td>71.2833</td>\n",
       "      <td>C85</td>\n",
       "      <td>C</td>\n",
       "    </tr>\n",
       "    <tr>\n",
       "      <td>2</td>\n",
       "      <td>3</td>\n",
       "      <td>1</td>\n",
       "      <td>3</td>\n",
       "      <td>Heikkinen, Miss. Laina</td>\n",
       "      <td>female</td>\n",
       "      <td>26.0</td>\n",
       "      <td>0</td>\n",
       "      <td>0</td>\n",
       "      <td>STON/O2. 3101282</td>\n",
       "      <td>7.9250</td>\n",
       "      <td>NaN</td>\n",
       "      <td>S</td>\n",
       "    </tr>\n",
       "    <tr>\n",
       "      <td>3</td>\n",
       "      <td>4</td>\n",
       "      <td>1</td>\n",
       "      <td>1</td>\n",
       "      <td>Futrelle, Mrs. Jacques Heath (Lily May Peel)</td>\n",
       "      <td>female</td>\n",
       "      <td>35.0</td>\n",
       "      <td>1</td>\n",
       "      <td>0</td>\n",
       "      <td>113803</td>\n",
       "      <td>53.1000</td>\n",
       "      <td>C123</td>\n",
       "      <td>S</td>\n",
       "    </tr>\n",
       "    <tr>\n",
       "      <td>4</td>\n",
       "      <td>5</td>\n",
       "      <td>0</td>\n",
       "      <td>3</td>\n",
       "      <td>Allen, Mr. William Henry</td>\n",
       "      <td>male</td>\n",
       "      <td>35.0</td>\n",
       "      <td>0</td>\n",
       "      <td>0</td>\n",
       "      <td>373450</td>\n",
       "      <td>8.0500</td>\n",
       "      <td>NaN</td>\n",
       "      <td>S</td>\n",
       "    </tr>\n",
       "  </tbody>\n",
       "</table>\n",
       "</div>"
      ],
      "text/plain": [
       "   PassengerId  Survived  Pclass  \\\n",
       "0            1         0       3   \n",
       "1            2         1       1   \n",
       "2            3         1       3   \n",
       "3            4         1       1   \n",
       "4            5         0       3   \n",
       "\n",
       "                                                Name     Sex   Age  SibSp  \\\n",
       "0                            Braund, Mr. Owen Harris    male  22.0      1   \n",
       "1  Cumings, Mrs. John Bradley (Florence Briggs Th...  female  38.0      1   \n",
       "2                             Heikkinen, Miss. Laina  female  26.0      0   \n",
       "3       Futrelle, Mrs. Jacques Heath (Lily May Peel)  female  35.0      1   \n",
       "4                           Allen, Mr. William Henry    male  35.0      0   \n",
       "\n",
       "   Parch            Ticket     Fare Cabin Embarked  \n",
       "0      0         A/5 21171   7.2500   NaN        S  \n",
       "1      0          PC 17599  71.2833   C85        C  \n",
       "2      0  STON/O2. 3101282   7.9250   NaN        S  \n",
       "3      0            113803  53.1000  C123        S  \n",
       "4      0            373450   8.0500   NaN        S  "
      ]
     },
     "metadata": {},
     "execution_count": 8
    }
   ],
   "metadata": {}
  },
  {
   "cell_type": "code",
   "execution_count": 9,
   "source": [
    "# 观察常见特征\n",
    "train[['Age','SibSp']].hist(figsize=(10,4))"
   ],
   "outputs": [
    {
     "output_type": "execute_result",
     "data": {
      "text/plain": [
       "array([[<matplotlib.axes._subplots.AxesSubplot object at 0x7f91141f9198>,\n",
       "        <matplotlib.axes._subplots.AxesSubplot object at 0x7f911416b6d8>]],\n",
       "      dtype=object)"
      ]
     },
     "metadata": {},
     "execution_count": 9
    },
    {
     "output_type": "display_data",
     "data": {
      "image/png": "[encoded data removed]",
      "text/plain": [
       "<Figure size 720x288 with 2 Axes>"
      ]
     },
     "metadata": {
      "needs_background": "light"
     }
    }
   ],
   "metadata": {}
  },
  {
   "cell_type": "code",
   "execution_count": 10,
   "source": [
    "# 归一化\n",
    "scaler = preprocessing.MinMaxScaler()\n",
    "xtrain = scaler.fit_transform(train[['Age','SibSp']])\n",
    "pd.DataFrame(xtrain).hist(figsize=(10,4))"
   ],
   "outputs": [
    {
     "output_type": "execute_result",
     "data": {
      "text/plain": [
       "array([[<matplotlib.axes._subplots.AxesSubplot object at 0x7f9113f23b70>,\n",
       "        <matplotlib.axes._subplots.AxesSubplot object at 0x7f91142feac8>]],\n",
       "      dtype=object)"
      ]
     },
     "metadata": {},
     "execution_count": 10
    },
    {
     "output_type": "display_data",
     "data": {
      "image/png": "[encoded data removed]",
      "text/plain": [
       "<Figure size 720x288 with 2 Axes>"
      ]
     },
     "metadata": {
      "needs_background": "light"
     }
    }
   ],
   "metadata": {}
  },
  {
   "cell_type": "markdown",
   "source": [
    "### 其他预处理方法"
   ],
   "metadata": {}
  },
  {
   "cell_type": "code",
   "execution_count": 11,
   "source": [
    "#### 线性函数归一化 Min-Max Scaling\n",
    "\n",
    "import numpy as np\n",
    "x = np.array([[ 0., -3.,  1.], [ 3.,  1.,  2.], [ 0.,  1., -1.]]) # 初始化数据，每一行表示一个样本，每一列表示一个特征\n",
    "min_max_scaler = preprocessing.MinMaxScaler() # 将数据进行 min-max 规范化\n",
    "minmax_x = min_max_scaler.fit_transform(x)\n",
    "print(minmax_x)"
   ],
   "outputs": [
    {
     "output_type": "stream",
     "name": "stdout",
     "text": [
      "[[0.         0.         0.66666667]\n",
      " [1.         1.         1.        ]\n",
      " [0.         1.         0.        ]]\n"
     ]
    }
   ],
   "metadata": {}
  },
  {
   "cell_type": "code",
   "execution_count": 12,
   "source": [
    "#### 零均值归一化 Z-score\n",
    "x = np.array([[ 0., -3.,  1.], [ 3.,  1.,  2.], [ 0.,  1., -1.]]) # 初始化数据\n",
    "standard_scaled_scaler = preprocessing.StandardScaler() # 将数据进行 StandardScaler 规范化\n",
    "standard_scaled_x = standard_scaled_scaler.fit_transform(x)\n",
    "print(standard_scaled_x) # 以下可见每个特征（列）均值为 0 "
   ],
   "outputs": [
    {
     "output_type": "stream",
     "name": "stdout",
     "text": [
      "[[-0.70710678 -1.41421356  0.26726124]\n",
      " [ 1.41421356  0.70710678  1.06904497]\n",
      " [-0.70710678  0.70710678 -1.33630621]]\n"
     ]
    }
   ],
   "metadata": {}
  },
  {
   "cell_type": "code",
   "execution_count": 14,
   "source": [
    "### Outliers\n",
    "#### Winsorization\n",
    "pd.DataFrame(x).hist(bins=30)"
   ],
   "outputs": [
    {
     "output_type": "execute_result",
     "data": {
      "text/plain": [
       "array([[<matplotlib.axes._subplots.AxesSubplot object at 0x7f9114719278>,\n",
       "        <matplotlib.axes._subplots.AxesSubplot object at 0x7f91147aa390>],\n",
       "       [<matplotlib.axes._subplots.AxesSubplot object at 0x7f91147d6898>,\n",
       "        <matplotlib.axes._subplots.AxesSubplot object at 0x7f9114809e48>]],\n",
       "      dtype=object)"
      ]
     },
     "metadata": {},
     "execution_count": 14
    },
    {
     "output_type": "display_data",
     "data": {
      "image/png": "[encoded data removed]",
      "text/plain": [
       "<Figure size 432x288 with 4 Axes>"
      ]
     },
     "metadata": {
      "needs_background": "light"
     }
    }
   ],
   "metadata": {}
  },
  {
   "cell_type": "code",
   "execution_count": 15,
   "source": [
    "#### Rank\n",
    "obj = pd.Series([7,-5,7,4,2,0,4])\n",
    "obj.rank()"
   ],
   "outputs": [
    {
     "output_type": "execute_result",
     "data": {
      "text/plain": [
       "0    6.5\n",
       "1    1.0\n",
       "2    6.5\n",
       "3    4.5\n",
       "4    3.0\n",
       "5    2.0\n",
       "6    4.5\n",
       "dtype: float64"
      ]
     },
     "metadata": {},
     "execution_count": 15
    }
   ],
   "metadata": {}
  },
  {
   "cell_type": "code",
   "execution_count": 17,
   "source": [
    "# log,sqrt\n",
    "np.log(1+x)\n",
    "np.sqrt(x+0.5)\n"
   ],
   "outputs": [
    {
     "output_type": "execute_result",
     "data": {
      "text/plain": [
       "array([[0.70710678,        nan, 1.22474487],\n",
       "       [1.87082869, 1.22474487, 1.58113883],\n",
       "       [0.70710678, 1.22474487,        nan]])"
      ]
     },
     "metadata": {},
     "execution_count": 17
    }
   ],
   "metadata": {}
  },
  {
   "cell_type": "code",
   "execution_count": 18,
   "source": [
    "## Categorical\n",
    "### Label Encoder\n",
    "#### Alphabetical\n",
    "\n",
    "sex = pd.Series([\"male\", \"female\", \"female\", \"male\"])\n",
    "le = preprocessing.LabelEncoder()  # 获取一个LabelEncoder\n",
    "le = le.fit([\"male\", \"female\"])  # 训练LabelEncoder, 把male编码为0，female编码为1\n",
    "sex = le.transform(sex)  # 使用训练好的LabelEncoder对原数据进行编码\n",
    "print(sex)"
   ],
   "outputs": [
    {
     "output_type": "stream",
     "name": "stdout",
     "text": [
      "[1 0 0 1]\n"
     ]
    }
   ],
   "metadata": {}
  },
  {
   "cell_type": "code",
   "execution_count": 19,
   "source": [
    "#### Order of appearance\n",
    "\n",
    "licenses = pd.Series([\"a\", \"b\", \"c\", \"d\", \"b\", \"c\", \"d\"])\n",
    "factorized_licenses = pd.factorize(licenses) \n",
    "print(factorized_licenses)"
   ],
   "outputs": [
    {
     "output_type": "stream",
     "name": "stdout",
     "text": [
      "(array([0, 1, 2, 3, 1, 2, 3]), Index(['a', 'b', 'c', 'd'], dtype='object'))\n"
     ]
    }
   ],
   "metadata": {}
  },
  {
   "cell_type": "code",
   "execution_count": 20,
   "source": [
    "#### One-hot\n",
    "\n",
    "data = ['cold', 'cold', 'warm', 'cold', 'hot', 'hot', 'warm', 'cold', 'warm', 'hot']\n",
    "values = np.array(data)\n",
    "label_encoder = preprocessing.LabelEncoder()  # integer encode\n",
    "integer_encoded = label_encoder.fit_transform(values)\n",
    "onehot_encoder = preprocessing.OneHotEncoder(sparse=False)  # sparse 只存非零值\n",
    "integer_encoded = integer_encoded.reshape(len(integer_encoded), 1)\n",
    "onehot_encoded = onehot_encoder.fit_transform(integer_encoded)\n",
    "print(onehot_encoded)"
   ],
   "outputs": [
    {
     "output_type": "stream",
     "name": "stdout",
     "text": [
      "[[1. 0. 0.]\n",
      " [1. 0. 0.]\n",
      " [0. 0. 1.]\n",
      " [1. 0. 0.]\n",
      " [0. 1. 0.]\n",
      " [0. 1. 0.]\n",
      " [0. 0. 1.]\n",
      " [1. 0. 0.]\n",
      " [0. 0. 1.]\n",
      " [0. 1. 0.]]\n"
     ]
    }
   ],
   "metadata": {}
  },
  {
   "cell_type": "code",
   "execution_count": 21,
   "source": [
    "## 文字\n",
    "### Bag of Words\n",
    "\n",
    "from sklearn.feature_extraction.text import CountVectorizer \n",
    "cv = CountVectorizer(ngram_range=(1, 1), binary=False, token_pattern='\\w{1,}') \n",
    "vec = cv.fit_transform(['I love you', 'you are my angle are'] ) \n",
    "print(cv.get_feature_names()) # 特征名称 \n",
    "print(vec) \n",
    "df = pd.DataFrame(vec.toarray(), columns=cv.get_feature_names()) # to DataFrame \n",
    "print(df.head())"
   ],
   "outputs": [
    {
     "output_type": "stream",
     "name": "stdout",
     "text": [
      "['angle', 'are', 'i', 'love', 'my', 'you']\n",
      "  (0, 2)\t1\n",
      "  (0, 3)\t1\n",
      "  (0, 5)\t1\n",
      "  (1, 5)\t1\n",
      "  (1, 1)\t2\n",
      "  (1, 4)\t1\n",
      "  (1, 0)\t1\n",
      "   angle  are  i  love  my  you\n",
      "0      0    0  1     1   0    1\n",
      "1      1    2  0     0   1    1\n"
     ]
    }
   ],
   "metadata": {}
  },
  {
   "cell_type": "code",
   "execution_count": 22,
   "source": [
    "# TF-IDF\n",
    "from sklearn.feature_extraction.text import TfidfVectorizer\n",
    "tv = TfidfVectorizer(binary=False, decode_error='ignore', stop_words='english')\n",
    "vec = tv.fit_transform(['hello world','this is a panda.'])#传入句子组成的list\n",
    "print(tv.get_feature_names()) # 特征名称 \n",
    "print(vec) \n",
    "df = pd.DataFrame(vec.toarray(), columns=tv.get_feature_names()) # to DataFrame \n",
    "print(df.head())"
   ],
   "outputs": [
    {
     "output_type": "stream",
     "name": "stdout",
     "text": [
      "['hello', 'panda', 'world']\n",
      "  (0, 2)\t0.7071067811865476\n",
      "  (0, 0)\t0.7071067811865476\n",
      "  (1, 1)\t1.0\n",
      "      hello  panda     world\n",
      "0  0.707107    0.0  0.707107\n",
      "1  0.000000    1.0  0.000000\n"
     ]
    }
   ],
   "metadata": {}
  }
 ],
 "metadata": {
  "kernelspec": {
   "name": "python3",
   "display_name": "Python 3.6.8 64-bit ('base': conda)"
  },
  "language_info": {
   "codemirror_mode": {
    "name": "ipython",
    "version": 3
   },
   "file_extension": ".py",
   "mimetype": "text/x-python",
   "name": "python",
   "nbconvert_exporter": "python",
   "pygments_lexer": "ipython3",
   "version": "3.6.8"
  },
  "interpreter": {
   "hash": "1fef96a86254b5b64b7294805a674893d583399788ea545149c5bfbe00efcc65"
  }
 },
 "nbformat": 4,
 "nbformat_minor": 5
}