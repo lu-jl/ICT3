{
 "cells": [
  {
   "cell_type": "markdown",
   "id": "developed-relief",
   "metadata": {},
   "source": [
    "# Separation"
   ]
  },
  {
   "cell_type": "markdown",
   "id": "noted-tackle",
   "metadata": {},
   "source": [
    "## Validation Separation"
   ]
  },
  {
   "cell_type": "markdown",
   "id": "steady-bradford",
   "metadata": {},
   "source": [
    "### 留出法Hold-out\n",
    "使用前提：有足够的数据"
   ]
  },
  {
   "cell_type": "code",
   "execution_count": 5,
   "id": "necessary-interest",
   "metadata": {},
   "outputs": [
    {
     "name": "stdout",
     "output_type": "stream",
     "text": [
      "[[ 4 34]\n",
      " [18 97]\n",
      " [99 34]\n",
      " [25 91]\n",
      " [73 68]\n",
      " [85 28]\n",
      " [46 39]\n",
      " [77 70]\n",
      " [37 62]\n",
      " [23 75]]\n"
     ]
    }
   ],
   "source": [
    "import numpy as np\n",
    "import pandas as pd\n",
    "import matplotlib.pyplot as plt\n",
    "import seaborn as sns\n",
    "import os\n",
    "import sklearn.model_selection as ms\n",
    "\n",
    "X = np.random.randint(1, 100, 20).reshape(10, 2)\n",
    "print(X)"
   ]
  },
  {
   "cell_type": "code",
   "execution_count": 7,
   "id": "acute-length",
   "metadata": {},
   "outputs": [
    {
     "name": "stdout",
     "output_type": "stream",
     "text": [
      "train: [9 3 1 8 0 7 6] , test: [5 4 2]\n",
      "train: [1 3 0 9 5 7 6] , test: [2 4 8]\n",
      "train: [0 7 5 9 2 4 3] , test: [8 6 1]\n",
      "train: [8 9 5 4 0 6 7] , test: [1 3 2]\n",
      "train: [5 4 1 0 3 2 7] , test: [8 6 9]\n",
      "train: [9 4 5 0 3 6 1] , test: [8 2 7]\n",
      "train: [3 5 1 2 0 4 6] , test: [7 8 9]\n",
      "train: [5 1 8 6 0 9 3] , test: [7 2 4]\n",
      "train: [1 2 8 9 7 5 4] , test: [3 0 6]\n",
      "train: [9 8 6 5 7 1 3] , test: [4 0 2]\n"
     ]
    }
   ],
   "source": [
    "ss = ms.ShuffleSplit(n_splits=10, test_size=0.25)\n",
    "for train, test in ss.split(X):\n",
    "    print(f'train: {train} , test: {test}')"
   ]
  },
  {
   "cell_type": "markdown",
   "id": "gentle-bloom",
   "metadata": {},
   "source": [
    "### K-fold"
   ]
  },
  {
   "cell_type": "code",
   "execution_count": 11,
   "id": "positive-bargain",
   "metadata": {},
   "outputs": [
    {
     "name": "stdout",
     "output_type": "stream",
     "text": [
      "train: [2 3 4 5 6 7 8 9] , test: [0 1]\n",
      "train: [0 1 4 5 6 7 8 9] , test: [2 3]\n",
      "train: [0 1 2 3 6 7 8 9] , test: [4 5]\n",
      "train: [0 1 2 3 4 5 8 9] , test: [6 7]\n",
      "train: [0 1 2 3 4 5 6 7] , test: [8 9]\n"
     ]
    }
   ],
   "source": [
    "kf = ms.KFold(n_splits=5)\n",
    "for train, test in kf.split(X):\n",
    "    print(f'train: {train} , test: {test}')\n",
    "# sklearn.model_selectin.Kflod  # ngroups=k"
   ]
  },
  {
   "cell_type": "markdown",
   "id": "bridal-table",
   "metadata": {},
   "source": [
    "### Leave-One-Out"
   ]
  },
  {
   "cell_type": "code",
   "execution_count": null,
   "id": "resident-house",
   "metadata": {},
   "outputs": [],
   "source": [
    "sklearn.model_selectin.LeaveOneOut  # ngroups=len(train)"
   ]
  }
 ],
 "metadata": {
  "kernelspec": {
   "display_name": "Python 3",
   "language": "python",
   "name": "python3"
  },
  "language_info": {
   "codemirror_mode": {
    "name": "ipython",
    "version": 3
   },
   "file_extension": ".py",
   "mimetype": "text/x-python",
   "name": "python",
   "nbconvert_exporter": "python",
   "pygments_lexer": "ipython3",
   "version": "3.9.2"
  }
 },
 "nbformat": 4,
 "nbformat_minor": 5
}
