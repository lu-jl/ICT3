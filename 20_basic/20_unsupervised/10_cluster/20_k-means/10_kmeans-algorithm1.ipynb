{
 "cells": [
  {
   "cell_type": "code",
   "execution_count": 8,
   "id": "absolute-three",
   "metadata": {
    "scrolled": true
   },
   "outputs": [],
   "source": [
    "def loadDataSet(fileName):\n",
    "    dataSet = []\n",
    "    fr = open(fileName)\n",
    "    for line in fr.readlines():\n",
    "        curLine = line.strip().split('\\t')\n",
    "        fltLine = map(float, curLine)\n",
    "        dataSet.append(fltLine)\n",
    "    return dataSet"
   ]
  },
  {
   "cell_type": "markdown",
   "id": "alive-slovenia",
   "metadata": {},
   "source": [
    "# Test"
   ]
  },
  {
   "cell_type": "code",
   "execution_count": 9,
   "id": "numerous-witch",
   "metadata": {},
   "outputs": [],
   "source": [
    "dataSet = mat(loadDataSet('data/testSet.txt'))"
   ]
  },
  {
   "cell_type": "code",
   "execution_count": null,
   "id": "whole-joyce",
   "metadata": {},
   "outputs": [],
   "source": []
  }
 ],
 "metadata": {
  "kernelspec": {
   "display_name": "Python 3",
   "language": "python",
   "name": "python3"
  },
  "language_info": {
   "codemirror_mode": {
    "name": "ipython",
    "version": 3
   },
   "file_extension": ".py",
   "mimetype": "text/x-python",
   "name": "python",
   "nbconvert_exporter": "python",
   "pygments_lexer": "ipython3",
   "version": "3.9.2"
  }
 },
 "nbformat": 4,
 "nbformat_minor": 5
}
