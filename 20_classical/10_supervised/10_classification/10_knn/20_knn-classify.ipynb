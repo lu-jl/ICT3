{
 "cells": [
  {
   "cell_type": "markdown",
   "id": "ambient-flour",
   "metadata": {},
   "source": [
    "# KNN Classifier Demo"
   ]
  },
  {
   "cell_type": "markdown",
   "id": "selective-trick",
   "metadata": {},
   "source": [
    "## Import Libs"
   ]
  },
  {
   "cell_type": "code",
   "execution_count": 3,
   "id": "trying-thanks",
   "metadata": {},
   "outputs": [],
   "source": [
    "from numpy import arange, array, c_, meshgrid\n",
    "from sklearn import neighbors, datasets\n",
    "from sklearn.neighbors import KNeighborsClassifier"
   ]
  },
  {
   "cell_type": "markdown",
   "id": "healthy-macedonia",
   "metadata": {},
   "source": [
    "## Home-made Dataset"
   ]
  },
  {
   "cell_type": "markdown",
   "id": "labeled-canada",
   "metadata": {},
   "source": [
    "### Load Dataset"
   ]
  },
  {
   "cell_type": "code",
   "execution_count": 4,
   "id": "competitive-penguin",
   "metadata": {},
   "outputs": [],
   "source": [
    "X = array([[-1.0, -1.1], [-1.0, -1.0], [0, 0], [1.0, 1.1], [2.0, 2.0], [2.0, 2.1]])\n",
    "y = array([0, 0, 0, 1, 1, 1])"
   ]
  },
  {
   "cell_type": "markdown",
   "id": "medium-india",
   "metadata": {},
   "source": [
    "### Train KNN Clf"
   ]
  },
  {
   "cell_type": "code",
   "execution_count": 5,
   "id": "virgin-stevens",
   "metadata": {},
   "outputs": [
    {
     "data": {
      "text/plain": [
       "KNeighborsClassifier(n_neighbors=3)"
      ]
     },
     "execution_count": 5,
     "metadata": {},
     "output_type": "execute_result"
    }
   ],
   "source": [
    "knnClf = KNeighborsClassifier(n_neighbors=3)\n",
    "knnClf.fit(X, y)"
   ]
  },
  {
   "cell_type": "markdown",
   "id": "aquatic-sperm",
   "metadata": {},
   "source": [
    "### Predict"
   ]
  },
  {
   "cell_type": "code",
   "execution_count": 6,
   "id": "hydraulic-capital",
   "metadata": {},
   "outputs": [
    {
     "name": "stdout",
     "output_type": "stream",
     "text": [
      "Predict:  [0]\n"
     ]
    }
   ],
   "source": [
    "print(\"Predict: \", knnClf.predict([[-1.0, -1.0]]))"
   ]
  },
  {
   "cell_type": "markdown",
   "id": "color-talent",
   "metadata": {},
   "source": [
    "## Iris Dataset"
   ]
  },
  {
   "cell_type": "markdown",
   "id": "statewide-laundry",
   "metadata": {},
   "source": [
    "### Load Dataset"
   ]
  },
  {
   "cell_type": "code",
   "execution_count": 7,
   "id": "favorite-transparency",
   "metadata": {},
   "outputs": [],
   "source": [
    "iris = datasets.load_iris()\n",
    "X = iris.data[:, :2]  # 所有行，前2列，也就是只采用前两个feature\n",
    "y = iris.target"
   ]
  },
  {
   "cell_type": "markdown",
   "id": "retired-employment",
   "metadata": {},
   "source": [
    "### Train again Clf"
   ]
  },
  {
   "cell_type": "code",
   "execution_count": 9,
   "id": "moving-color",
   "metadata": {},
   "outputs": [
    {
     "data": {
      "text/plain": [
       "KNeighborsClassifier(n_neighbors=3)"
      ]
     },
     "execution_count": 9,
     "metadata": {},
     "output_type": "execute_result"
    }
   ],
   "source": [
    "knnClf = KNeighborsClassifier(n_neighbors=3)\n",
    "knnClf.fit(X, y)"
   ]
  },
  {
   "cell_type": "markdown",
   "id": "native-exception",
   "metadata": {},
   "source": [
    "### Predict"
   ]
  },
  {
   "cell_type": "code",
   "execution_count": 25,
   "id": "imperial-estonia",
   "metadata": {},
   "outputs": [
    {
     "name": "stdout",
     "output_type": "stream",
     "text": [
      "Predict:  [1 0]\n"
     ]
    }
   ],
   "source": [
    "print(\"Predict: \", knnClf.predict([[5.0, 2.0], [4.0, 3.0]]))"
   ]
  }
 ],
 "metadata": {
  "kernelspec": {
   "display_name": "Python 3",
   "language": "python",
   "name": "python3"
  },
  "language_info": {
   "codemirror_mode": {
    "name": "ipython",
    "version": 3
   },
   "file_extension": ".py",
   "mimetype": "text/x-python",
   "name": "python",
   "nbconvert_exporter": "python",
   "pygments_lexer": "ipython3",
   "version": "3.9.2"
  }
 },
 "nbformat": 4,
 "nbformat_minor": 5
}
