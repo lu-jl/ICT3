{
 "cells": [
  {
   "cell_type": "markdown",
   "id": "fancy-product",
   "metadata": {},
   "source": [
    "# Body Decision Tree Classify"
   ]
  },
  {
   "cell_type": "markdown",
   "id": "congressional-hungary",
   "metadata": {},
   "source": [
    "## Import"
   ]
  },
  {
   "cell_type": "code",
   "execution_count": 21,
   "id": "instructional-frontier",
   "metadata": {},
   "outputs": [],
   "source": [
    "import numpy as np\n",
    "from sklearn.tree import DecisionTreeClassifier\n",
    "from sklearn.model_selection import train_test_split"
   ]
  },
  {
   "cell_type": "markdown",
   "id": "intimate-hampshire",
   "metadata": {},
   "source": [
    "## Load Data"
   ]
  },
  {
   "cell_type": "code",
   "execution_count": 22,
   "id": "dried-rally",
   "metadata": {},
   "outputs": [],
   "source": [
    "X_tmp = []\n",
    "y_tmp = []\n",
    "with open(\"data/body.txt\") as ifile:\n",
    "    for line in ifile:\n",
    "        # feature: 身高 体重   label:  胖瘦\n",
    "        tokens = line.strip().split(' ')\n",
    "        X_tmp.append([float(tk) for tk in tokens[:-1]])\n",
    "        y_tmp.append(tokens[-1])\n",
    "\n",
    "X = np.array(X_tmp)\n",
    "y_tmp = np.array(y_tmp) \n",
    "y = np.zeros(y_tmp.shape)\n",
    "y[y_tmp == 'fat'] = 1  # label转换为0/1"
   ]
  },
  {
   "cell_type": "markdown",
   "id": "after-sweden",
   "metadata": {},
   "source": [
    "## Separate Data"
   ]
  },
  {
   "cell_type": "code",
   "execution_count": 23,
   "id": "parallel-reservoir",
   "metadata": {},
   "outputs": [],
   "source": [
    "# 拆分数据，80%做训练，20%做测试\n",
    "X_train, X_test, y_train, y_test = train_test_split(X, y, test_size=0.2)"
   ]
  },
  {
   "cell_type": "markdown",
   "id": "bronze-amendment",
   "metadata": {},
   "source": [
    "## Train Decision Tree Classifier"
   ]
  },
  {
   "cell_type": "code",
   "execution_count": 24,
   "id": "extended-daisy",
   "metadata": {},
   "outputs": [
    {
     "name": "stdout",
     "output_type": "stream",
     "text": [
      "feature_importances_: [0.34436094 0.65563906]\n",
      "score 准确率为 1.0000\n"
     ]
    }
   ],
   "source": [
    "# 使用ID3决策树\n",
    "id3DtClf = DecisionTreeClassifier(criterion='entropy')\n",
    "id3DtClf.fit(X_train, y_train)\n",
    "\n",
    "# 系数反映每个feature的影响力，越大表示该feature在分类中起到的作用越大\n",
    "print('feature_importances_: %s' % id3DtClf.feature_importances_)\n",
    "\n",
    "# 得到决策树准确率\n",
    "acc_decision_tree = round(id3DtClf.score(X_train, y_train), 6)\n",
    "print(u'score 准确率为 %.4lf' % acc_decision_tree)"
   ]
  },
  {
   "cell_type": "markdown",
   "id": "scientific-resistance",
   "metadata": {},
   "source": [
    "## 预测"
   ]
  },
  {
   "cell_type": "code",
   "execution_count": 27,
   "id": "honey-seating",
   "metadata": {},
   "outputs": [],
   "source": [
    "predictTrainLabelSet = id3DtClf.predict(X_train)"
   ]
  }
 ],
 "metadata": {
  "kernelspec": {
   "display_name": "Python 3",
   "language": "python",
   "name": "python3"
  },
  "language_info": {
   "codemirror_mode": {
    "name": "ipython",
    "version": 3
   },
   "file_extension": ".py",
   "mimetype": "text/x-python",
   "name": "python",
   "nbconvert_exporter": "python",
   "pygments_lexer": "ipython3",
   "version": "3.9.2"
  }
 },
 "nbformat": 4,
 "nbformat_minor": 5
}
