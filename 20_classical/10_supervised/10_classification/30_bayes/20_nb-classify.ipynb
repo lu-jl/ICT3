{
 "cells": [
  {
   "cell_type": "markdown",
   "id": "completed-remark",
   "metadata": {},
   "source": [
    "# Native Bayes Classify"
   ]
  },
  {
   "cell_type": "markdown",
   "id": "plain-crowd",
   "metadata": {},
   "source": [
    "## Import"
   ]
  },
  {
   "cell_type": "code",
   "execution_count": 8,
   "id": "moving-carry",
   "metadata": {},
   "outputs": [],
   "source": [
    "import numpy as np\n",
    "from sklearn.naive_bayes import BernoulliNB, MultinomialNB, GaussianNB"
   ]
  },
  {
   "cell_type": "markdown",
   "id": "tracked-contact",
   "metadata": {},
   "source": [
    "## Data Load"
   ]
  },
  {
   "cell_type": "code",
   "execution_count": 2,
   "id": "prerequisite-scholarship",
   "metadata": {},
   "outputs": [],
   "source": [
    "X = np.array([[-1, -1], [-2, -1], [-3, -2], [1, 1], [2, 1], [3, 2]])\n",
    "y = np.array([1, 1, 1, 2, 2, 2])"
   ]
  },
  {
   "cell_type": "markdown",
   "id": "convenient-storage",
   "metadata": {},
   "source": [
    "## Bernoulli Train & Predict"
   ]
  },
  {
   "cell_type": "code",
   "execution_count": 9,
   "id": "charged-undergraduate",
   "metadata": {},
   "outputs": [
    {
     "name": "stdout",
     "output_type": "stream",
     "text": [
      "the predict result is:  [1]\n"
     ]
    }
   ],
   "source": [
    "bernoulliClf = BernoulliNB()\n",
    "bernoulliClf.fit(X, y)\n",
    "print('the predict result is: ', bernoulliClf.predict(np.array([[-2, -2]])))"
   ]
  },
  {
   "cell_type": "markdown",
   "id": "monthly-consent",
   "metadata": {},
   "source": [
    "## Gaussion Train & Predict"
   ]
  },
  {
   "cell_type": "code",
   "execution_count": 11,
   "id": "infrared-consent",
   "metadata": {},
   "outputs": [
    {
     "name": "stdout",
     "output_type": "stream",
     "text": [
      "the predict result is:  [2]\n"
     ]
    }
   ],
   "source": [
    "gaussianClf = GaussianNB()\n",
    "gaussianClf.fit(X, y)\n",
    "print('the predict result is: ', gaussianClf.predict([[-0.8, -1]]))"
   ]
  },
  {
   "cell_type": "markdown",
   "id": "humanitarian-input",
   "metadata": {},
   "source": [
    "## Multinomial Trian & Predict"
   ]
  },
  {
   "cell_type": "code",
   "execution_count": 7,
   "id": "bright-activation",
   "metadata": {},
   "outputs": [
    {
     "name": "stdout",
     "output_type": "stream",
     "text": [
      "the predict result is:  [2]\n"
     ]
    }
   ],
   "source": [
    "X = np.array([[1, 1], [2, 1], [3, 2], [4, 4], [5, 4], [6, 5]])\n",
    "y = np.array([1, 1, 2, 2, 2, 2])\n",
    "multinomialClf = MultinomialNB()\n",
    "multinomialClf.fit(X, y)\n",
    "print('the predict result is: ', multinomialClf.predict(np.array([[2, 2]])))"
   ]
  }
 ],
 "metadata": {
  "kernelspec": {
   "display_name": "Python 3",
   "language": "python",
   "name": "python3"
  },
  "language_info": {
   "codemirror_mode": {
    "name": "ipython",
    "version": 3
   },
   "file_extension": ".py",
   "mimetype": "text/x-python",
   "name": "python",
   "nbconvert_exporter": "python",
   "pygments_lexer": "ipython3",
   "version": "3.9.2"
  }
 },
 "nbformat": 4,
 "nbformat_minor": 5
}
