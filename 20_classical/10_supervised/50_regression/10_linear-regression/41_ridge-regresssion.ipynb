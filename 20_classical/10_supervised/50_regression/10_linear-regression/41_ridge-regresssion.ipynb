{
 "cells": [
  {
   "cell_type": "markdown",
   "metadata": {},
   "source": [
    "用scikit-learn和pandas学习Ridge回归"
   ]
  },
  {
   "cell_type": "code",
   "execution_count": 1,
   "metadata": {},
   "outputs": [],
   "source": [
    "import matplotlib.pyplot as plt\n",
    "%matplotlib inline\n",
    "import numpy as np\n",
    "import pandas as pd\n",
    "from sklearn import datasets, linear_model"
   ]
  },
  {
   "cell_type": "code",
   "execution_count": 2,
   "metadata": {},
   "outputs": [],
   "source": [
    "data = pd.read_csv('dataset/ccpp.csv')"
   ]
  },
  {
   "cell_type": "code",
   "execution_count": 4,
   "metadata": {},
   "outputs": [],
   "source": [
    "X = data[['AT', 'V', 'AP', 'RH']]\n",
    "y = data[['PE']]\n",
    "from sklearn.model_selection import train_test_split\n",
    "X_train, X_test, y_train, y_test = train_test_split(X, y, random_state=1)"
   ]
  },
  {
   "cell_type": "markdown",
   "metadata": {},
   "source": [
    "要运行 Ridge 回归，必须要指定超参数 𝛼。你也许会问：“我也不知道超参数是多少啊？” 我也不知道，那么我们随机指定一个(比如1)，后面我们会讲到用交叉验证从多个输入超参数 𝛼 中快速选择最优超参数的办法。"
   ]
  },
  {
   "cell_type": "code",
   "execution_count": 6,
   "metadata": {},
   "outputs": [
    {
     "name": "stdout",
     "output_type": "stream",
     "text": [
      "0.9283052054473487\n"
     ]
    }
   ],
   "source": [
    "from sklearn.linear_model import Ridge\n",
    "ridge = Ridge(alpha=1)\n",
    "ridge.fit(X_train, y_train)\n",
    "print(ridge.score(X_train, y_train))"
   ]
  },
  {
   "cell_type": "markdown",
   "metadata": {},
   "source": [
    "也就是说我们得到的模型是：\n",
    "𝑃𝐸=447.05552892−1.97373209∗𝐴𝑇−0.2323016∗𝑉+0.06935852∗𝐴𝑃−0.15806479∗𝑅𝐻"
   ]
  },
  {
   "cell_type": "code",
   "execution_count": 7,
   "metadata": {},
   "outputs": [
    {
     "name": "stdout",
     "output_type": "stream",
     "text": [
      "[[-1.96862642 -0.23930532  0.05685793 -0.15860993]]\n",
      "[460.04983649]\n",
      "MSE: 20.837209985979037\n",
      "RMSE: 4.564779292143163\n"
     ]
    }
   ],
   "source": [
    "print(ridge.coef_)\n",
    "print(ridge.intercept_)\n",
    "y_pred = ridge.predict(X_test)\n",
    "from sklearn import metrics\n",
    "print(\"MSE:\",metrics.mean_squared_error(y_test, y_pred))  # 用scikit-learn计算MSE\n",
    "print(\"RMSE:\",np.sqrt(metrics.mean_squared_error(y_test, y_pred)))  # 用scikit-learn计算RMSE"
   ]
  },
  {
   "cell_type": "markdown",
   "metadata": {},
   "source": [
    "把上面这段程序在 N 种 𝛼 的值情况下跑 N 遍，然后再比较结果的优劣程度呢？ \n",
    "\n",
    "用scikit-learn 选择 Ridge 回归超参数 𝛼,这里假设在这 10 个 𝛼 值中选择一个最优的值。"
   ]
  },
  {
   "cell_type": "code",
   "execution_count": 10,
   "metadata": {},
   "outputs": [
    {
     "name": "stdout",
     "output_type": "stream",
     "text": [
      "7.0\n"
     ]
    }
   ],
   "source": [
    "from sklearn.linear_model import RidgeCV\n",
    "ridgecv = RidgeCV(alphas=[0.01, 0.1, 0.5, 1, 3, 5, 7, 10, 20, 100])\n",
    "ridgecv.fit(X_train, y_train)\n",
    "print(ridgecv.alpha_)  "
   ]
  },
  {
   "cell_type": "markdown",
   "metadata": {},
   "source": [
    "取 Alphas 为 7，获得最好的 score"
   ]
  },
  {
   "cell_type": "code",
   "execution_count": 14,
   "metadata": {},
   "outputs": [
    {
     "name": "stdout",
     "output_type": "stream",
     "text": [
      "0.9283052042112011\n"
     ]
    }
   ],
   "source": [
    "ridge2 = Ridge(alpha=7)\n",
    "ridge2.fit(X_train, y_train)\n",
    "print(ridge2.score(X_train, y_train))"
   ]
  }
 ],
 "metadata": {
  "kernelspec": {
   "display_name": "Python 3",
   "language": "python",
   "name": "python3"
  },
  "language_info": {
   "codemirror_mode": {
    "name": "ipython",
    "version": 3
   },
   "file_extension": ".py",
   "mimetype": "text/x-python",
   "name": "python",
   "nbconvert_exporter": "python",
   "pygments_lexer": "ipython3",
   "version": "3.9.2"
  }
 },
 "nbformat": 4,
 "nbformat_minor": 1
}
