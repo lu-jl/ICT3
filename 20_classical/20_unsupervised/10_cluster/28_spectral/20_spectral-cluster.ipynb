{
 "cells": [
  {
   "cell_type": "markdown",
   "metadata": {},
   "source": [
    "用scikit-learn学习谱聚类"
   ]
  },
  {
   "cell_type": "code",
   "execution_count": 1,
   "metadata": {},
   "outputs": [],
   "source": [
    "import numpy as np\n",
    "from sklearn import datasets\n",
    "X, y = datasets.make_blobs(n_samples=500, n_features=6, centers=5, cluster_std=[0.4, 0.3, 0.4, 0.3, 0.4], random_state=11)"
   ]
  },
  {
   "cell_type": "code",
   "execution_count": 2,
   "metadata": {},
   "outputs": [
    {
     "name": "stdout",
     "output_type": "stream",
     "text": [
      "Calinski-Harabasz Score 14926.242520246455\n"
     ]
    }
   ],
   "source": [
    "from sklearn.cluster import SpectralClustering\n",
    "y_pred = SpectralClustering().fit_predict(X)\n",
    "from sklearn import metrics\n",
    "print (\"Calinski-Harabasz Score\", metrics.calinski_harabasz_score(X, y_pred)) "
   ]
  },
  {
   "cell_type": "code",
   "execution_count": 3,
   "metadata": {},
   "outputs": [
    {
     "name": "stdout",
     "output_type": "stream",
     "text": [
      "Calinski-Harabasz Score with gamma= 0.01 n_clusters= 3 score: 1979.7709609161868\n",
      "Calinski-Harabasz Score with gamma= 0.01 n_clusters= 4 score: 3154.0184121901602\n",
      "Calinski-Harabasz Score with gamma= 0.01 n_clusters= 5 score: 23410.638949991386\n",
      "Calinski-Harabasz Score with gamma= 0.01 n_clusters= 6 score: 19303.734087657893\n",
      "Calinski-Harabasz Score with gamma= 0.1 n_clusters= 3 score: 1979.7709609161868\n",
      "Calinski-Harabasz Score with gamma= 0.1 n_clusters= 4 score: 3154.0184121901602\n",
      "Calinski-Harabasz Score with gamma= 0.1 n_clusters= 5 score: 23410.638949991382\n",
      "Calinski-Harabasz Score with gamma= 0.1 n_clusters= 6 score: 19425.588433904024\n",
      "Calinski-Harabasz Score with gamma= 1 n_clusters= 3 score: 782.3880066118433\n",
      "Calinski-Harabasz Score with gamma= 1 n_clusters= 4 score: 1227.882061137965\n",
      "Calinski-Harabasz Score with gamma= 1 n_clusters= 5 score: 23410.638949991386\n",
      "Calinski-Harabasz Score with gamma= 1 n_clusters= 6 score: 19416.97893717676\n",
      "Calinski-Harabasz Score with gamma= 10 n_clusters= 3 score: 655.8934233753623\n"
     ]
    },
    {
     "name": "stderr",
     "output_type": "stream",
     "text": [
      "/Users/ruanhe/Library/Python/3.8/lib/python/site-packages/sklearn/manifold/_spectral_embedding.py:245: UserWarning: Graph is not fully connected, spectral embedding may not work as expected.\n",
      "  warnings.warn(\"Graph is not fully connected, spectral embedding\"\n",
      "/Users/ruanhe/Library/Python/3.8/lib/python/site-packages/sklearn/manifold/_spectral_embedding.py:245: UserWarning: Graph is not fully connected, spectral embedding may not work as expected.\n",
      "  warnings.warn(\"Graph is not fully connected, spectral embedding\"\n"
     ]
    },
    {
     "name": "stdout",
     "output_type": "stream",
     "text": [
      "Calinski-Harabasz Score with gamma= 10 n_clusters= 4 score: 787.9159033388262\n",
      "Calinski-Harabasz Score with gamma= 10 n_clusters= 5 score: 23410.63894999139\n"
     ]
    },
    {
     "name": "stderr",
     "output_type": "stream",
     "text": [
      "/Users/ruanhe/Library/Python/3.8/lib/python/site-packages/sklearn/manifold/_spectral_embedding.py:245: UserWarning: Graph is not fully connected, spectral embedding may not work as expected.\n",
      "  warnings.warn(\"Graph is not fully connected, spectral embedding\"\n",
      "/Users/ruanhe/Library/Python/3.8/lib/python/site-packages/sklearn/manifold/_spectral_embedding.py:245: UserWarning: Graph is not fully connected, spectral embedding may not work as expected.\n",
      "  warnings.warn(\"Graph is not fully connected, spectral embedding\"\n"
     ]
    },
    {
     "name": "stdout",
     "output_type": "stream",
     "text": [
      "Calinski-Harabasz Score with gamma= 10 n_clusters= 6 score: 1519.1336711391841\n"
     ]
    }
   ],
   "source": [
    "for index, gamma in enumerate((0.01,0.1,1,10)):\n",
    "    for index, k in enumerate((3,4,5,6)):\n",
    "        y_pred = SpectralClustering(n_clusters=k, gamma=gamma).fit_predict(X)\n",
    "        print (\"Calinski-Harabasz Score with gamma=\", gamma, \"n_clusters=\", k,\"score:\", metrics.calinski_harabasz_score(X, y_pred)) "
   ]
  },
  {
   "cell_type": "code",
   "execution_count": 5,
   "metadata": {},
   "outputs": [
    {
     "name": "stdout",
     "output_type": "stream",
     "text": [
      "Calinski-Harabasz Score 14959.190922778178\n"
     ]
    }
   ],
   "source": [
    "y_pred = SpectralClustering(gamma=0.1).fit_predict(X)\n",
    "print (\"Calinski-Harabasz Score\", metrics.calinski_harabasz_score(X, y_pred))"
   ]
  }
 ],
 "metadata": {
  "kernelspec": {
   "display_name": "Python 3",
   "language": "python",
   "name": "python3"
  },
  "language_info": {
   "codemirror_mode": {
    "name": "ipython",
    "version": 3
   },
   "file_extension": ".py",
   "mimetype": "text/x-python",
   "name": "python",
   "nbconvert_exporter": "python",
   "pygments_lexer": "ipython3",
   "version": "3.8.2"
  }
 },
 "nbformat": 4,
 "nbformat_minor": 2
}
