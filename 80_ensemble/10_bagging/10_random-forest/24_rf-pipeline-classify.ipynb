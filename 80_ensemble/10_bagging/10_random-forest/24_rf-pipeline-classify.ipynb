{
 "cells": [
  {
   "cell_type": "code",
   "execution_count": 1,
   "id": "44bad9b2",
   "metadata": {},
   "outputs": [],
   "source": [
    "from sklearn.ensemble import RandomForestClassifier\n",
    "from sklearn.model_selection import GridSearchCV\n",
    "from sklearn.datasets import load_iris\n",
    "from sklearn.preprocessing import StandardScaler\n",
    "from sklearn.pipeline import Pipeline"
   ]
  },
  {
   "cell_type": "code",
   "execution_count": 2,
   "id": "4a39103f",
   "metadata": {},
   "outputs": [],
   "source": [
    "iris = load_iris()"
   ]
  },
  {
   "cell_type": "code",
   "execution_count": 3,
   "id": "c653a507",
   "metadata": {},
   "outputs": [
    {
     "data": {
      "text/plain": [
       "GridSearchCV(estimator=Pipeline(steps=[('scaler', StandardScaler()),\n",
       "                                       ('rfClf', RandomForestClassifier())]),\n",
       "             param_grid={'rfClf__n_estimators': range(1, 11)})"
      ]
     },
     "execution_count": 3,
     "metadata": {},
     "output_type": "execute_result"
    }
   ],
   "source": [
    "rfClf = RandomForestClassifier()\n",
    "parameters = {\"rfClf__n_estimators\": range(1, 11)}\n",
    "pipeline = Pipeline([\n",
    "    ('scaler', StandardScaler()),\n",
    "    ('rfClf', rfClf)\n",
    "])\n",
    "\n",
    "paraEstimatorPipeline = GridSearchCV(estimator=pipeline, param_grid=parameters)  # 使用GridSearchCV进行参数调优\n",
    "paraEstimatorPipeline.fit(iris.data, iris.target)  "
   ]
  },
  {
   "cell_type": "code",
   "execution_count": 4,
   "id": "2538052a",
   "metadata": {},
   "outputs": [
    {
     "name": "stdout",
     "output_type": "stream",
     "text": [
      "Best Score is:  0.9800000000000001\n",
      "Best Parameter is:  {'rfClf__n_estimators': 3}\n"
     ]
    }
   ],
   "source": [
    "print(\"Best Score is: \", paraEstimatorPipeline.best_score_)\n",
    "print(\"Best Parameter is: \", paraEstimatorPipeline.best_params_)"
   ]
  }
 ],
 "metadata": {
  "kernelspec": {
   "display_name": "Python 3",
   "language": "python",
   "name": "python3"
  },
  "language_info": {
   "codemirror_mode": {
    "name": "ipython",
    "version": 3
   },
   "file_extension": ".py",
   "mimetype": "text/x-python",
   "name": "python",
   "nbconvert_exporter": "python",
   "pygments_lexer": "ipython3",
   "version": "3.8.2"
  }
 },
 "nbformat": 4,
 "nbformat_minor": 5
}
