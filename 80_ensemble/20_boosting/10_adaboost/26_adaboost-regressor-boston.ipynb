{
 "cells": [
  {
   "cell_type": "code",
   "execution_count": 1,
   "id": "ad2d6c51",
   "metadata": {},
   "outputs": [],
   "source": [
    "from sklearn.model_selection import train_test_split\n",
    "from sklearn.metrics import mean_squared_error\n",
    "from sklearn.datasets import load_boston\n",
    "from sklearn.ensemble import AdaBoostRegressor"
   ]
  },
  {
   "cell_type": "code",
   "execution_count": 2,
   "id": "b99b5dc3",
   "metadata": {},
   "outputs": [],
   "source": [
    "data = load_boston()\n",
    "X_train, X_test, y_train, y_test = train_test_split(\n",
    "    data.data, data.target, test_size=0.25, random_state=33)"
   ]
  },
  {
   "cell_type": "code",
   "execution_count": 3,
   "id": "ac8792aa",
   "metadata": {},
   "outputs": [],
   "source": [
    "adaRegressor = AdaBoostRegressor()\n",
    "adaRegressor.fit(X_train, y_train)\n",
    "y_test_predict = adaRegressor.predict(X_test)"
   ]
  },
  {
   "cell_type": "code",
   "execution_count": 4,
   "id": "e8355f03",
   "metadata": {},
   "outputs": [
    {
     "name": "stdout",
     "output_type": "stream",
     "text": [
      "the predict test label set is:  [19.77037037 10.14390244 13.86153846 18.15614035 22.93956835 21.6\n",
      " 27.37096774 18.38311688 30.55243902 20.4928     31.69016393 33.54577114\n",
      " 11.01       25.21594203 13.44411765 25.56944444 18.15614035 17.92692308\n",
      " 27.65391705 25.21594203 17.95820106 18.7        18.80533981 19.08461538\n",
      " 33.16888889 18.40615385 21.6        25.56944444 11.256      31.51928934\n",
      " 18.229      26.19574468 10.08387097 19.98333333 26.388      31.69016393\n",
      " 26.19574468 11.33809524 13.8969697  25.56944444 16.20316456 12.17260274\n",
      " 30.55243902 18.15614035 26.74827586 19.08461538 17.82346939 19.28518519\n",
      " 26.388      19.17647059 18.15614035 34.3        16.48470588 18.15614035\n",
      " 22.99375    19.33461538 25.21594203 17.95820106 23.10717949 22.16875\n",
      " 18.93846154 17.95820106 44.07058824 20.57692308 18.15614035 26.50647059\n",
      " 26.19574468 11.01       18.38311688 27.83857143 21.6        18.73380282\n",
      " 18.090625   27.65391705 19.17647059 46.82888889 16.48470588 10.14390244\n",
      " 17.82346939 23.10717949 19.56428571 15.95       11.256      25.56944444\n",
      " 20.4928     21.01176471 47.23181818 17.82346939 44.07058824 32.02692308\n",
      " 29.87752809 19.17647059 19.2510101  18.229      15.58125    35.215\n",
      " 22.99375    22.99375    18.229      18.40615385 15.95       19.52765957\n",
      " 27.13203883 25.56944444 11.01       16.48470588 11.73125    27.05829384\n",
      " 12.17260274 26.50647059 35.93684211 12.43770492 17.95820106 25.61293532\n",
      " 32.50208333 23.10717949 21.6        20.4375     27.65391705 20.4928\n",
      " 19.52765957 18.38311688 11.256      20.4928     21.66818182 17.82346939\n",
      " 43.28823529]\n",
      "mean squared error is:  19.55\n"
     ]
    }
   ],
   "source": [
    "meanSquaredError = mean_squared_error(y_test, y_test_predict)\n",
    "print(\"the predict test label set is: \", y_test_predict)\n",
    "print(\"mean squared error is: \", round(meanSquaredError, 2))"
   ]
  }
 ],
 "metadata": {
  "kernelspec": {
   "display_name": "Python 3",
   "language": "python",
   "name": "python3"
  },
  "language_info": {
   "codemirror_mode": {
    "name": "ipython",
    "version": 3
   },
   "file_extension": ".py",
   "mimetype": "text/x-python",
   "name": "python",
   "nbconvert_exporter": "python",
   "pygments_lexer": "ipython3",
   "version": "3.8.2"
  }
 },
 "nbformat": 4,
 "nbformat_minor": 5
}
