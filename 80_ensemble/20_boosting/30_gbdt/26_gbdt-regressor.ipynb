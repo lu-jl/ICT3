{
 "cells": [
  {
   "cell_type": "code",
   "execution_count": 1,
   "id": "e80d9de9",
   "metadata": {},
   "outputs": [],
   "source": [
    "import numpy as np\n",
    "import pandas as pd\n",
    "from sklearn.ensemble import GradientBoostingRegressor"
   ]
  },
  {
   "cell_type": "code",
   "execution_count": 2,
   "id": "481401f0",
   "metadata": {},
   "outputs": [],
   "source": [
    "train_feature = np.genfromtxt(\"dataset/train_feat.txt\", dtype=np.float32)\n",
    "num_feature = len(train_feature[0])\n",
    "train_feature = pd.DataFrame(train_feature)\n",
    "\n",
    "train_label = train_feature.iloc[:, num_feature - 1]\n",
    "train_feature = train_feature.iloc[:, 0:num_feature - 2]\n",
    "\n",
    "test_feature = np.genfromtxt(\"dataset/test_feat.txt\", dtype=np.float32)\n",
    "num_feature = len(test_feature[0])\n",
    "test_feature = pd.DataFrame(test_feature)\n",
    "\n",
    "test_label = test_feature.iloc[:, num_feature - 1]\n",
    "test_feature = test_feature.iloc[:, 0:num_feature - 2]"
   ]
  },
  {
   "cell_type": "code",
   "execution_count": 3,
   "id": "5acb9328",
   "metadata": {},
   "outputs": [],
   "source": [
    "gbdt = GradientBoostingRegressor(\n",
    "    loss='ls'\n",
    "    , learning_rate=0.1\n",
    "    , n_estimators=100\n",
    "    , subsample=1\n",
    "    , min_samples_split=2\n",
    "    , min_samples_leaf=1\n",
    "    , max_depth=3\n",
    "    , init=None\n",
    "    , random_state=None\n",
    "    , max_features=None\n",
    "    , alpha=0.9\n",
    "    , verbose=0\n",
    "    , max_leaf_nodes=None\n",
    "    , warm_start=False\n",
    ")\n",
    "gbdt.fit(train_feature, train_label)\n",
    "pred = gbdt.predict(test_feature)"
   ]
  },
  {
   "cell_type": "code",
   "execution_count": 4,
   "id": "9f0f85d9",
   "metadata": {},
   "outputs": [
    {
     "name": "stdout",
     "output_type": "stream",
     "text": [
      "pred: 320.00073840656484  label: 320.0\n",
      "pred: 360.99964938921045  label: 361.0\n",
      "pred: 363.9995697050138  label: 364.0\n",
      "pred: 336.0003134241827  label: 336.0\n",
      "pred: 357.99972907340714  label: 358.0\n",
      "mean squared error:  0.0004527608403796943\n"
     ]
    }
   ],
   "source": [
    "total_err = 0\n",
    "\n",
    "for i in range(pred.shape[0]):\n",
    "    print('pred:', pred[i], ' label:', test_label[i])\n",
    "    \n",
    "print('mean squared error: ', np.sqrt(((pred - test_label) ** 2).mean()))"
   ]
  }
 ],
 "metadata": {
  "kernelspec": {
   "display_name": "Python 3",
   "language": "python",
   "name": "python3"
  },
  "language_info": {
   "codemirror_mode": {
    "name": "ipython",
    "version": 3
   },
   "file_extension": ".py",
   "mimetype": "text/x-python",
   "name": "python",
   "nbconvert_exporter": "python",
   "pygments_lexer": "ipython3",
   "version": "3.8.2"
  }
 },
 "nbformat": 4,
 "nbformat_minor": 5
}
