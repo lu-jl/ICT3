{
 "cells": [
  {
   "cell_type": "code",
   "execution_count": 1,
   "id": "faced-rachel",
   "metadata": {},
   "outputs": [],
   "source": [
    "import numpy as np\n",
    "import pandas as pd"
   ]
  },
  {
   "cell_type": "code",
   "execution_count": 2,
   "id": "therapeutic-cycling",
   "metadata": {},
   "outputs": [
    {
     "data": {
      "text/plain": [
       "0    1.0\n",
       "1    3.0\n",
       "2    5.0\n",
       "3    NaN\n",
       "4    6.0\n",
       "5    8.0\n",
       "dtype: float64"
      ]
     },
     "execution_count": 2,
     "metadata": {},
     "output_type": "execute_result"
    }
   ],
   "source": [
    "s = pd.Series([1, 3, 5, np.nan, 6, 8])\n",
    "s"
   ]
  },
  {
   "cell_type": "code",
   "execution_count": 5,
   "id": "arctic-slave",
   "metadata": {},
   "outputs": [
    {
     "data": {
      "text/html": [
       "<div>\n",
       "<style scoped>\n",
       "    .dataframe tbody tr th:only-of-type {\n",
       "        vertical-align: middle;\n",
       "    }\n",
       "\n",
       "    .dataframe tbody tr th {\n",
       "        vertical-align: top;\n",
       "    }\n",
       "\n",
       "    .dataframe thead th {\n",
       "        text-align: right;\n",
       "    }\n",
       "</style>\n",
       "<table border=\"1\" class=\"dataframe\">\n",
       "  <thead>\n",
       "    <tr style=\"text-align: right;\">\n",
       "      <th></th>\n",
       "      <th>0</th>\n",
       "      <th>1</th>\n",
       "      <th>2</th>\n",
       "      <th>3</th>\n",
       "    </tr>\n",
       "  </thead>\n",
       "  <tbody>\n",
       "    <tr>\n",
       "      <th>0</th>\n",
       "      <td>0.444356</td>\n",
       "      <td>-0.275320</td>\n",
       "      <td>1.472860</td>\n",
       "      <td>-1.114764</td>\n",
       "    </tr>\n",
       "    <tr>\n",
       "      <th>1</th>\n",
       "      <td>0.597095</td>\n",
       "      <td>1.095702</td>\n",
       "      <td>-1.049740</td>\n",
       "      <td>-0.062246</td>\n",
       "    </tr>\n",
       "    <tr>\n",
       "      <th>2</th>\n",
       "      <td>-0.701471</td>\n",
       "      <td>0.424293</td>\n",
       "      <td>-0.030863</td>\n",
       "      <td>0.430770</td>\n",
       "    </tr>\n",
       "    <tr>\n",
       "      <th>3</th>\n",
       "      <td>0.342634</td>\n",
       "      <td>0.485480</td>\n",
       "      <td>0.279268</td>\n",
       "      <td>-0.842117</td>\n",
       "    </tr>\n",
       "    <tr>\n",
       "      <th>4</th>\n",
       "      <td>0.107448</td>\n",
       "      <td>-0.244331</td>\n",
       "      <td>-0.656477</td>\n",
       "      <td>-0.449951</td>\n",
       "    </tr>\n",
       "    <tr>\n",
       "      <th>5</th>\n",
       "      <td>-0.313374</td>\n",
       "      <td>0.296191</td>\n",
       "      <td>-0.790109</td>\n",
       "      <td>-0.983338</td>\n",
       "    </tr>\n",
       "  </tbody>\n",
       "</table>\n",
       "</div>"
      ],
      "text/plain": [
       "          0         1         2         3\n",
       "0  0.444356 -0.275320  1.472860 -1.114764\n",
       "1  0.597095  1.095702 -1.049740 -0.062246\n",
       "2 -0.701471  0.424293 -0.030863  0.430770\n",
       "3  0.342634  0.485480  0.279268 -0.842117\n",
       "4  0.107448 -0.244331 -0.656477 -0.449951\n",
       "5 -0.313374  0.296191 -0.790109 -0.983338"
      ]
     },
     "execution_count": 5,
     "metadata": {},
     "output_type": "execute_result"
    }
   ],
   "source": [
    "df = pd.DataFrame(np.random.randn(6, 4))\n",
    "df"
   ]
  },
  {
   "cell_type": "code",
   "execution_count": 7,
   "id": "governing-steps",
   "metadata": {},
   "outputs": [
    {
     "data": {
      "text/html": [
       "<div>\n",
       "<style scoped>\n",
       "    .dataframe tbody tr th:only-of-type {\n",
       "        vertical-align: middle;\n",
       "    }\n",
       "\n",
       "    .dataframe tbody tr th {\n",
       "        vertical-align: top;\n",
       "    }\n",
       "\n",
       "    .dataframe thead th {\n",
       "        text-align: right;\n",
       "    }\n",
       "</style>\n",
       "<table border=\"1\" class=\"dataframe\">\n",
       "  <thead>\n",
       "    <tr style=\"text-align: right;\">\n",
       "      <th></th>\n",
       "      <th>0</th>\n",
       "      <th>1</th>\n",
       "      <th>2</th>\n",
       "      <th>3</th>\n",
       "    </tr>\n",
       "  </thead>\n",
       "  <tbody>\n",
       "    <tr>\n",
       "      <th>0</th>\n",
       "      <td>0.444356</td>\n",
       "      <td>-0.275320</td>\n",
       "      <td>1.472860</td>\n",
       "      <td>-1.114764</td>\n",
       "    </tr>\n",
       "    <tr>\n",
       "      <th>1</th>\n",
       "      <td>0.597095</td>\n",
       "      <td>1.095702</td>\n",
       "      <td>-1.049740</td>\n",
       "      <td>-0.062246</td>\n",
       "    </tr>\n",
       "    <tr>\n",
       "      <th>2</th>\n",
       "      <td>-0.701471</td>\n",
       "      <td>0.424293</td>\n",
       "      <td>-0.030863</td>\n",
       "      <td>0.430770</td>\n",
       "    </tr>\n",
       "    <tr>\n",
       "      <th>3</th>\n",
       "      <td>0.342634</td>\n",
       "      <td>0.485480</td>\n",
       "      <td>0.279268</td>\n",
       "      <td>-0.842117</td>\n",
       "    </tr>\n",
       "    <tr>\n",
       "      <th>4</th>\n",
       "      <td>0.107448</td>\n",
       "      <td>-0.244331</td>\n",
       "      <td>-0.656477</td>\n",
       "      <td>-0.449951</td>\n",
       "    </tr>\n",
       "  </tbody>\n",
       "</table>\n",
       "</div>"
      ],
      "text/plain": [
       "          0         1         2         3\n",
       "0  0.444356 -0.275320  1.472860 -1.114764\n",
       "1  0.597095  1.095702 -1.049740 -0.062246\n",
       "2 -0.701471  0.424293 -0.030863  0.430770\n",
       "3  0.342634  0.485480  0.279268 -0.842117\n",
       "4  0.107448 -0.244331 -0.656477 -0.449951"
      ]
     },
     "execution_count": 7,
     "metadata": {},
     "output_type": "execute_result"
    }
   ],
   "source": [
    "df.head()"
   ]
  },
  {
   "cell_type": "code",
   "execution_count": 9,
   "id": "seven-layer",
   "metadata": {},
   "outputs": [
    {
     "data": {
      "text/plain": [
       "RangeIndex(start=0, stop=6, step=1)"
      ]
     },
     "execution_count": 9,
     "metadata": {},
     "output_type": "execute_result"
    }
   ],
   "source": [
    "df.index"
   ]
  },
  {
   "cell_type": "code",
   "execution_count": 10,
   "id": "vulnerable-greene",
   "metadata": {},
   "outputs": [
    {
     "data": {
      "text/html": [
       "<div>\n",
       "<style scoped>\n",
       "    .dataframe tbody tr th:only-of-type {\n",
       "        vertical-align: middle;\n",
       "    }\n",
       "\n",
       "    .dataframe tbody tr th {\n",
       "        vertical-align: top;\n",
       "    }\n",
       "\n",
       "    .dataframe thead th {\n",
       "        text-align: right;\n",
       "    }\n",
       "</style>\n",
       "<table border=\"1\" class=\"dataframe\">\n",
       "  <thead>\n",
       "    <tr style=\"text-align: right;\">\n",
       "      <th></th>\n",
       "      <th>0</th>\n",
       "      <th>1</th>\n",
       "      <th>2</th>\n",
       "      <th>3</th>\n",
       "    </tr>\n",
       "  </thead>\n",
       "  <tbody>\n",
       "    <tr>\n",
       "      <th>count</th>\n",
       "      <td>6.000000</td>\n",
       "      <td>6.000000</td>\n",
       "      <td>6.000000</td>\n",
       "      <td>6.000000</td>\n",
       "    </tr>\n",
       "    <tr>\n",
       "      <th>mean</th>\n",
       "      <td>0.079448</td>\n",
       "      <td>0.297003</td>\n",
       "      <td>-0.129177</td>\n",
       "      <td>-0.503608</td>\n",
       "    </tr>\n",
       "    <tr>\n",
       "      <th>std</th>\n",
       "      <td>0.497054</td>\n",
       "      <td>0.511907</td>\n",
       "      <td>0.927936</td>\n",
       "      <td>0.598161</td>\n",
       "    </tr>\n",
       "    <tr>\n",
       "      <th>min</th>\n",
       "      <td>-0.701471</td>\n",
       "      <td>-0.275320</td>\n",
       "      <td>-1.049740</td>\n",
       "      <td>-1.114764</td>\n",
       "    </tr>\n",
       "    <tr>\n",
       "      <th>25%</th>\n",
       "      <td>-0.208168</td>\n",
       "      <td>-0.109201</td>\n",
       "      <td>-0.756701</td>\n",
       "      <td>-0.948033</td>\n",
       "    </tr>\n",
       "    <tr>\n",
       "      <th>50%</th>\n",
       "      <td>0.225041</td>\n",
       "      <td>0.360242</td>\n",
       "      <td>-0.343670</td>\n",
       "      <td>-0.646034</td>\n",
       "    </tr>\n",
       "    <tr>\n",
       "      <th>75%</th>\n",
       "      <td>0.418925</td>\n",
       "      <td>0.470183</td>\n",
       "      <td>0.201735</td>\n",
       "      <td>-0.159172</td>\n",
       "    </tr>\n",
       "    <tr>\n",
       "      <th>max</th>\n",
       "      <td>0.597095</td>\n",
       "      <td>1.095702</td>\n",
       "      <td>1.472860</td>\n",
       "      <td>0.430770</td>\n",
       "    </tr>\n",
       "  </tbody>\n",
       "</table>\n",
       "</div>"
      ],
      "text/plain": [
       "              0         1         2         3\n",
       "count  6.000000  6.000000  6.000000  6.000000\n",
       "mean   0.079448  0.297003 -0.129177 -0.503608\n",
       "std    0.497054  0.511907  0.927936  0.598161\n",
       "min   -0.701471 -0.275320 -1.049740 -1.114764\n",
       "25%   -0.208168 -0.109201 -0.756701 -0.948033\n",
       "50%    0.225041  0.360242 -0.343670 -0.646034\n",
       "75%    0.418925  0.470183  0.201735 -0.159172\n",
       "max    0.597095  1.095702  1.472860  0.430770"
      ]
     },
     "execution_count": 10,
     "metadata": {},
     "output_type": "execute_result"
    }
   ],
   "source": [
    "df.describe()"
   ]
  },
  {
   "cell_type": "code",
   "execution_count": 11,
   "id": "complimentary-consortium",
   "metadata": {},
   "outputs": [
    {
     "data": {
      "text/html": [
       "<div>\n",
       "<style scoped>\n",
       "    .dataframe tbody tr th:only-of-type {\n",
       "        vertical-align: middle;\n",
       "    }\n",
       "\n",
       "    .dataframe tbody tr th {\n",
       "        vertical-align: top;\n",
       "    }\n",
       "\n",
       "    .dataframe thead th {\n",
       "        text-align: right;\n",
       "    }\n",
       "</style>\n",
       "<table border=\"1\" class=\"dataframe\">\n",
       "  <thead>\n",
       "    <tr style=\"text-align: right;\">\n",
       "      <th></th>\n",
       "      <th>3</th>\n",
       "      <th>2</th>\n",
       "      <th>1</th>\n",
       "      <th>0</th>\n",
       "    </tr>\n",
       "  </thead>\n",
       "  <tbody>\n",
       "    <tr>\n",
       "      <th>0</th>\n",
       "      <td>-1.114764</td>\n",
       "      <td>1.472860</td>\n",
       "      <td>-0.275320</td>\n",
       "      <td>0.444356</td>\n",
       "    </tr>\n",
       "    <tr>\n",
       "      <th>1</th>\n",
       "      <td>-0.062246</td>\n",
       "      <td>-1.049740</td>\n",
       "      <td>1.095702</td>\n",
       "      <td>0.597095</td>\n",
       "    </tr>\n",
       "    <tr>\n",
       "      <th>2</th>\n",
       "      <td>0.430770</td>\n",
       "      <td>-0.030863</td>\n",
       "      <td>0.424293</td>\n",
       "      <td>-0.701471</td>\n",
       "    </tr>\n",
       "    <tr>\n",
       "      <th>3</th>\n",
       "      <td>-0.842117</td>\n",
       "      <td>0.279268</td>\n",
       "      <td>0.485480</td>\n",
       "      <td>0.342634</td>\n",
       "    </tr>\n",
       "    <tr>\n",
       "      <th>4</th>\n",
       "      <td>-0.449951</td>\n",
       "      <td>-0.656477</td>\n",
       "      <td>-0.244331</td>\n",
       "      <td>0.107448</td>\n",
       "    </tr>\n",
       "    <tr>\n",
       "      <th>5</th>\n",
       "      <td>-0.983338</td>\n",
       "      <td>-0.790109</td>\n",
       "      <td>0.296191</td>\n",
       "      <td>-0.313374</td>\n",
       "    </tr>\n",
       "  </tbody>\n",
       "</table>\n",
       "</div>"
      ],
      "text/plain": [
       "          3         2         1         0\n",
       "0 -1.114764  1.472860 -0.275320  0.444356\n",
       "1 -0.062246 -1.049740  1.095702  0.597095\n",
       "2  0.430770 -0.030863  0.424293 -0.701471\n",
       "3 -0.842117  0.279268  0.485480  0.342634\n",
       "4 -0.449951 -0.656477 -0.244331  0.107448\n",
       "5 -0.983338 -0.790109  0.296191 -0.313374"
      ]
     },
     "execution_count": 11,
     "metadata": {},
     "output_type": "execute_result"
    }
   ],
   "source": [
    "df.sort_index(axis=1, ascending=False)"
   ]
  },
  {
   "cell_type": "code",
   "execution_count": 15,
   "id": "enhanced-disclaimer",
   "metadata": {},
   "outputs": [
    {
     "data": {
      "text/plain": [
       "0    1.472860\n",
       "1   -1.049740\n",
       "2   -0.030863\n",
       "3    0.279268\n",
       "4   -0.656477\n",
       "5   -0.790109\n",
       "Name: 2, dtype: float64"
      ]
     },
     "execution_count": 15,
     "metadata": {},
     "output_type": "execute_result"
    }
   ],
   "source": [
    "df[2]"
   ]
  },
  {
   "cell_type": "code",
   "execution_count": 16,
   "id": "fluid-greenhouse",
   "metadata": {},
   "outputs": [
    {
     "data": {
      "text/html": [
       "<div>\n",
       "<style scoped>\n",
       "    .dataframe tbody tr th:only-of-type {\n",
       "        vertical-align: middle;\n",
       "    }\n",
       "\n",
       "    .dataframe tbody tr th {\n",
       "        vertical-align: top;\n",
       "    }\n",
       "\n",
       "    .dataframe thead th {\n",
       "        text-align: right;\n",
       "    }\n",
       "</style>\n",
       "<table border=\"1\" class=\"dataframe\">\n",
       "  <thead>\n",
       "    <tr style=\"text-align: right;\">\n",
       "      <th></th>\n",
       "      <th>0</th>\n",
       "      <th>1</th>\n",
       "      <th>2</th>\n",
       "      <th>3</th>\n",
       "    </tr>\n",
       "  </thead>\n",
       "  <tbody>\n",
       "    <tr>\n",
       "      <th>1</th>\n",
       "      <td>0.597095</td>\n",
       "      <td>1.095702</td>\n",
       "      <td>-1.049740</td>\n",
       "      <td>-0.062246</td>\n",
       "    </tr>\n",
       "    <tr>\n",
       "      <th>2</th>\n",
       "      <td>-0.701471</td>\n",
       "      <td>0.424293</td>\n",
       "      <td>-0.030863</td>\n",
       "      <td>0.430770</td>\n",
       "    </tr>\n",
       "  </tbody>\n",
       "</table>\n",
       "</div>"
      ],
      "text/plain": [
       "          0         1         2         3\n",
       "1  0.597095  1.095702 -1.049740 -0.062246\n",
       "2 -0.701471  0.424293 -0.030863  0.430770"
      ]
     },
     "execution_count": 16,
     "metadata": {},
     "output_type": "execute_result"
    }
   ],
   "source": [
    "df[1:3]"
   ]
  },
  {
   "cell_type": "code",
   "execution_count": 18,
   "id": "infrared-longer",
   "metadata": {},
   "outputs": [
    {
     "data": {
      "text/plain": [
       "0   -0.701471\n",
       "1    0.424293\n",
       "2   -0.030863\n",
       "3    0.430770\n",
       "Name: 2, dtype: float64"
      ]
     },
     "execution_count": 18,
     "metadata": {},
     "output_type": "execute_result"
    }
   ],
   "source": [
    "df.loc[2]"
   ]
  },
  {
   "cell_type": "code",
   "execution_count": 21,
   "id": "declared-silly",
   "metadata": {},
   "outputs": [
    {
     "data": {
      "text/html": [
       "<div>\n",
       "<style scoped>\n",
       "    .dataframe tbody tr th:only-of-type {\n",
       "        vertical-align: middle;\n",
       "    }\n",
       "\n",
       "    .dataframe tbody tr th {\n",
       "        vertical-align: top;\n",
       "    }\n",
       "\n",
       "    .dataframe thead th {\n",
       "        text-align: right;\n",
       "    }\n",
       "</style>\n",
       "<table border=\"1\" class=\"dataframe\">\n",
       "  <thead>\n",
       "    <tr style=\"text-align: right;\">\n",
       "      <th></th>\n",
       "      <th>2</th>\n",
       "      <th>3</th>\n",
       "    </tr>\n",
       "  </thead>\n",
       "  <tbody>\n",
       "    <tr>\n",
       "      <th>1</th>\n",
       "      <td>-1.049740</td>\n",
       "      <td>-0.062246</td>\n",
       "    </tr>\n",
       "    <tr>\n",
       "      <th>2</th>\n",
       "      <td>-0.030863</td>\n",
       "      <td>0.430770</td>\n",
       "    </tr>\n",
       "    <tr>\n",
       "      <th>3</th>\n",
       "      <td>0.279268</td>\n",
       "      <td>-0.842117</td>\n",
       "    </tr>\n",
       "  </tbody>\n",
       "</table>\n",
       "</div>"
      ],
      "text/plain": [
       "          2         3\n",
       "1 -1.049740 -0.062246\n",
       "2 -0.030863  0.430770\n",
       "3  0.279268 -0.842117"
      ]
     },
     "execution_count": 21,
     "metadata": {},
     "output_type": "execute_result"
    }
   ],
   "source": [
    "df.loc[1:3, [2, 3]]"
   ]
  },
  {
   "cell_type": "code",
   "execution_count": 22,
   "id": "cognitive-support",
   "metadata": {},
   "outputs": [
    {
     "data": {
      "text/plain": [
       "0.430769802677233"
      ]
     },
     "execution_count": 22,
     "metadata": {},
     "output_type": "execute_result"
    }
   ],
   "source": [
    "df.loc[2,3]"
   ]
  },
  {
   "cell_type": "code",
   "execution_count": 23,
   "id": "nasty-ferry",
   "metadata": {},
   "outputs": [],
   "source": [
    "s1 = pd.Series([1, 2, 3, 4, 5, 6], index=pd.date_range('20130102', periods=6))"
   ]
  },
  {
   "cell_type": "code",
   "execution_count": 24,
   "id": "stylish-distribution",
   "metadata": {},
   "outputs": [
    {
     "data": {
      "text/plain": [
       "2013-01-02    1\n",
       "2013-01-03    2\n",
       "2013-01-04    3\n",
       "2013-01-05    4\n",
       "2013-01-06    5\n",
       "2013-01-07    6\n",
       "Freq: D, dtype: int64"
      ]
     },
     "execution_count": 24,
     "metadata": {},
     "output_type": "execute_result"
    }
   ],
   "source": [
    "s1"
   ]
  },
  {
   "cell_type": "code",
   "execution_count": 25,
   "id": "reduced-dividend",
   "metadata": {},
   "outputs": [],
   "source": [
    "df = pd.DataFrame(np.random.randn(10, 4))"
   ]
  },
  {
   "cell_type": "code",
   "execution_count": 26,
   "id": "billion-essence",
   "metadata": {},
   "outputs": [
    {
     "data": {
      "text/html": [
       "<div>\n",
       "<style scoped>\n",
       "    .dataframe tbody tr th:only-of-type {\n",
       "        vertical-align: middle;\n",
       "    }\n",
       "\n",
       "    .dataframe tbody tr th {\n",
       "        vertical-align: top;\n",
       "    }\n",
       "\n",
       "    .dataframe thead th {\n",
       "        text-align: right;\n",
       "    }\n",
       "</style>\n",
       "<table border=\"1\" class=\"dataframe\">\n",
       "  <thead>\n",
       "    <tr style=\"text-align: right;\">\n",
       "      <th></th>\n",
       "      <th>0</th>\n",
       "      <th>1</th>\n",
       "      <th>2</th>\n",
       "      <th>3</th>\n",
       "    </tr>\n",
       "  </thead>\n",
       "  <tbody>\n",
       "    <tr>\n",
       "      <th>0</th>\n",
       "      <td>-0.542893</td>\n",
       "      <td>-0.268690</td>\n",
       "      <td>-1.020027</td>\n",
       "      <td>-1.121122</td>\n",
       "    </tr>\n",
       "    <tr>\n",
       "      <th>1</th>\n",
       "      <td>-0.740318</td>\n",
       "      <td>-0.227843</td>\n",
       "      <td>1.332542</td>\n",
       "      <td>-0.887105</td>\n",
       "    </tr>\n",
       "    <tr>\n",
       "      <th>2</th>\n",
       "      <td>0.691399</td>\n",
       "      <td>-0.842200</td>\n",
       "      <td>0.662733</td>\n",
       "      <td>0.912065</td>\n",
       "    </tr>\n",
       "    <tr>\n",
       "      <th>3</th>\n",
       "      <td>0.330011</td>\n",
       "      <td>-0.496928</td>\n",
       "      <td>0.221600</td>\n",
       "      <td>0.352645</td>\n",
       "    </tr>\n",
       "    <tr>\n",
       "      <th>4</th>\n",
       "      <td>0.003205</td>\n",
       "      <td>0.139267</td>\n",
       "      <td>0.122210</td>\n",
       "      <td>0.124058</td>\n",
       "    </tr>\n",
       "    <tr>\n",
       "      <th>5</th>\n",
       "      <td>1.468591</td>\n",
       "      <td>-0.482937</td>\n",
       "      <td>0.026410</td>\n",
       "      <td>-0.250269</td>\n",
       "    </tr>\n",
       "    <tr>\n",
       "      <th>6</th>\n",
       "      <td>1.839313</td>\n",
       "      <td>0.121685</td>\n",
       "      <td>-0.768557</td>\n",
       "      <td>0.388641</td>\n",
       "    </tr>\n",
       "    <tr>\n",
       "      <th>7</th>\n",
       "      <td>-0.649740</td>\n",
       "      <td>1.356224</td>\n",
       "      <td>-0.482434</td>\n",
       "      <td>0.157420</td>\n",
       "    </tr>\n",
       "    <tr>\n",
       "      <th>8</th>\n",
       "      <td>-1.218658</td>\n",
       "      <td>0.079849</td>\n",
       "      <td>0.336387</td>\n",
       "      <td>-0.287237</td>\n",
       "    </tr>\n",
       "    <tr>\n",
       "      <th>9</th>\n",
       "      <td>0.280928</td>\n",
       "      <td>-1.073964</td>\n",
       "      <td>1.068521</td>\n",
       "      <td>-0.041871</td>\n",
       "    </tr>\n",
       "  </tbody>\n",
       "</table>\n",
       "</div>"
      ],
      "text/plain": [
       "          0         1         2         3\n",
       "0 -0.542893 -0.268690 -1.020027 -1.121122\n",
       "1 -0.740318 -0.227843  1.332542 -0.887105\n",
       "2  0.691399 -0.842200  0.662733  0.912065\n",
       "3  0.330011 -0.496928  0.221600  0.352645\n",
       "4  0.003205  0.139267  0.122210  0.124058\n",
       "5  1.468591 -0.482937  0.026410 -0.250269\n",
       "6  1.839313  0.121685 -0.768557  0.388641\n",
       "7 -0.649740  1.356224 -0.482434  0.157420\n",
       "8 -1.218658  0.079849  0.336387 -0.287237\n",
       "9  0.280928 -1.073964  1.068521 -0.041871"
      ]
     },
     "execution_count": 26,
     "metadata": {},
     "output_type": "execute_result"
    }
   ],
   "source": [
    "df"
   ]
  },
  {
   "cell_type": "code",
   "execution_count": 27,
   "id": "unavailable-dallas",
   "metadata": {},
   "outputs": [],
   "source": [
    "pieces = [df[:3], df[3:7], df[7:]]"
   ]
  },
  {
   "cell_type": "code",
   "execution_count": 28,
   "id": "dimensional-worst",
   "metadata": {},
   "outputs": [
    {
     "data": {
      "text/plain": [
       "[          0         1         2         3\n",
       " 0 -0.542893 -0.268690 -1.020027 -1.121122\n",
       " 1 -0.740318 -0.227843  1.332542 -0.887105\n",
       " 2  0.691399 -0.842200  0.662733  0.912065,\n",
       "           0         1         2         3\n",
       " 3  0.330011 -0.496928  0.221600  0.352645\n",
       " 4  0.003205  0.139267  0.122210  0.124058\n",
       " 5  1.468591 -0.482937  0.026410 -0.250269\n",
       " 6  1.839313  0.121685 -0.768557  0.388641,\n",
       "           0         1         2         3\n",
       " 7 -0.649740  1.356224 -0.482434  0.157420\n",
       " 8 -1.218658  0.079849  0.336387 -0.287237\n",
       " 9  0.280928 -1.073964  1.068521 -0.041871]"
      ]
     },
     "execution_count": 28,
     "metadata": {},
     "output_type": "execute_result"
    }
   ],
   "source": [
    "pieces"
   ]
  },
  {
   "cell_type": "code",
   "execution_count": 30,
   "id": "convinced-cream",
   "metadata": {},
   "outputs": [
    {
     "data": {
      "text/html": [
       "<div>\n",
       "<style scoped>\n",
       "    .dataframe tbody tr th:only-of-type {\n",
       "        vertical-align: middle;\n",
       "    }\n",
       "\n",
       "    .dataframe tbody tr th {\n",
       "        vertical-align: top;\n",
       "    }\n",
       "\n",
       "    .dataframe thead th {\n",
       "        text-align: right;\n",
       "    }\n",
       "</style>\n",
       "<table border=\"1\" class=\"dataframe\">\n",
       "  <thead>\n",
       "    <tr style=\"text-align: right;\">\n",
       "      <th></th>\n",
       "      <th>0</th>\n",
       "      <th>1</th>\n",
       "      <th>2</th>\n",
       "      <th>3</th>\n",
       "    </tr>\n",
       "  </thead>\n",
       "  <tbody>\n",
       "    <tr>\n",
       "      <th>3</th>\n",
       "      <td>0.330011</td>\n",
       "      <td>-0.496928</td>\n",
       "      <td>0.221600</td>\n",
       "      <td>0.352645</td>\n",
       "    </tr>\n",
       "    <tr>\n",
       "      <th>4</th>\n",
       "      <td>0.003205</td>\n",
       "      <td>0.139267</td>\n",
       "      <td>0.122210</td>\n",
       "      <td>0.124058</td>\n",
       "    </tr>\n",
       "    <tr>\n",
       "      <th>5</th>\n",
       "      <td>1.468591</td>\n",
       "      <td>-0.482937</td>\n",
       "      <td>0.026410</td>\n",
       "      <td>-0.250269</td>\n",
       "    </tr>\n",
       "    <tr>\n",
       "      <th>6</th>\n",
       "      <td>1.839313</td>\n",
       "      <td>0.121685</td>\n",
       "      <td>-0.768557</td>\n",
       "      <td>0.388641</td>\n",
       "    </tr>\n",
       "  </tbody>\n",
       "</table>\n",
       "</div>"
      ],
      "text/plain": [
       "          0         1         2         3\n",
       "3  0.330011 -0.496928  0.221600  0.352645\n",
       "4  0.003205  0.139267  0.122210  0.124058\n",
       "5  1.468591 -0.482937  0.026410 -0.250269\n",
       "6  1.839313  0.121685 -0.768557  0.388641"
      ]
     },
     "execution_count": 30,
     "metadata": {},
     "output_type": "execute_result"
    }
   ],
   "source": [
    "pieces[1]"
   ]
  },
  {
   "cell_type": "code",
   "execution_count": 31,
   "id": "immune-pittsburgh",
   "metadata": {},
   "outputs": [
    {
     "data": {
      "text/html": [
       "<div>\n",
       "<style scoped>\n",
       "    .dataframe tbody tr th:only-of-type {\n",
       "        vertical-align: middle;\n",
       "    }\n",
       "\n",
       "    .dataframe tbody tr th {\n",
       "        vertical-align: top;\n",
       "    }\n",
       "\n",
       "    .dataframe thead th {\n",
       "        text-align: right;\n",
       "    }\n",
       "</style>\n",
       "<table border=\"1\" class=\"dataframe\">\n",
       "  <thead>\n",
       "    <tr style=\"text-align: right;\">\n",
       "      <th></th>\n",
       "      <th>A</th>\n",
       "      <th>B</th>\n",
       "      <th>C</th>\n",
       "      <th>D</th>\n",
       "    </tr>\n",
       "  </thead>\n",
       "  <tbody>\n",
       "    <tr>\n",
       "      <th>0</th>\n",
       "      <td>-1.932513</td>\n",
       "      <td>-0.161416</td>\n",
       "      <td>0.309668</td>\n",
       "      <td>-0.633800</td>\n",
       "    </tr>\n",
       "    <tr>\n",
       "      <th>1</th>\n",
       "      <td>0.220893</td>\n",
       "      <td>-2.341564</td>\n",
       "      <td>-0.745188</td>\n",
       "      <td>1.004747</td>\n",
       "    </tr>\n",
       "    <tr>\n",
       "      <th>2</th>\n",
       "      <td>-2.783169</td>\n",
       "      <td>-1.283485</td>\n",
       "      <td>-0.489242</td>\n",
       "      <td>-1.106505</td>\n",
       "    </tr>\n",
       "    <tr>\n",
       "      <th>3</th>\n",
       "      <td>0.040951</td>\n",
       "      <td>-0.297875</td>\n",
       "      <td>-0.152728</td>\n",
       "      <td>-0.485294</td>\n",
       "    </tr>\n",
       "    <tr>\n",
       "      <th>4</th>\n",
       "      <td>-0.429799</td>\n",
       "      <td>0.761979</td>\n",
       "      <td>-0.548823</td>\n",
       "      <td>-0.867978</td>\n",
       "    </tr>\n",
       "    <tr>\n",
       "      <th>5</th>\n",
       "      <td>0.896566</td>\n",
       "      <td>1.203453</td>\n",
       "      <td>0.568352</td>\n",
       "      <td>-0.424260</td>\n",
       "    </tr>\n",
       "    <tr>\n",
       "      <th>6</th>\n",
       "      <td>0.032867</td>\n",
       "      <td>0.876635</td>\n",
       "      <td>0.282668</td>\n",
       "      <td>0.095140</td>\n",
       "    </tr>\n",
       "    <tr>\n",
       "      <th>7</th>\n",
       "      <td>0.471008</td>\n",
       "      <td>1.626623</td>\n",
       "      <td>-0.335115</td>\n",
       "      <td>0.658486</td>\n",
       "    </tr>\n",
       "  </tbody>\n",
       "</table>\n",
       "</div>"
      ],
      "text/plain": [
       "          A         B         C         D\n",
       "0 -1.932513 -0.161416  0.309668 -0.633800\n",
       "1  0.220893 -2.341564 -0.745188  1.004747\n",
       "2 -2.783169 -1.283485 -0.489242 -1.106505\n",
       "3  0.040951 -0.297875 -0.152728 -0.485294\n",
       "4 -0.429799  0.761979 -0.548823 -0.867978\n",
       "5  0.896566  1.203453  0.568352 -0.424260\n",
       "6  0.032867  0.876635  0.282668  0.095140\n",
       "7  0.471008  1.626623 -0.335115  0.658486"
      ]
     },
     "execution_count": 31,
     "metadata": {},
     "output_type": "execute_result"
    }
   ],
   "source": [
    "df = pd.DataFrame(np.random.randn(8, 4), columns=['A', 'B', 'C', 'D'])\n",
    "df"
   ]
  },
  {
   "cell_type": "code",
   "execution_count": 32,
   "id": "consistent-hepatitis",
   "metadata": {},
   "outputs": [],
   "source": [
    "s = df.iloc[3]"
   ]
  },
  {
   "cell_type": "code",
   "execution_count": 33,
   "id": "thousand-squad",
   "metadata": {},
   "outputs": [
    {
     "data": {
      "text/html": [
       "<div>\n",
       "<style scoped>\n",
       "    .dataframe tbody tr th:only-of-type {\n",
       "        vertical-align: middle;\n",
       "    }\n",
       "\n",
       "    .dataframe tbody tr th {\n",
       "        vertical-align: top;\n",
       "    }\n",
       "\n",
       "    .dataframe thead th {\n",
       "        text-align: right;\n",
       "    }\n",
       "</style>\n",
       "<table border=\"1\" class=\"dataframe\">\n",
       "  <thead>\n",
       "    <tr style=\"text-align: right;\">\n",
       "      <th></th>\n",
       "      <th>A</th>\n",
       "      <th>B</th>\n",
       "      <th>C</th>\n",
       "      <th>D</th>\n",
       "    </tr>\n",
       "  </thead>\n",
       "  <tbody>\n",
       "    <tr>\n",
       "      <th>0</th>\n",
       "      <td>-1.932513</td>\n",
       "      <td>-0.161416</td>\n",
       "      <td>0.309668</td>\n",
       "      <td>-0.633800</td>\n",
       "    </tr>\n",
       "    <tr>\n",
       "      <th>1</th>\n",
       "      <td>0.220893</td>\n",
       "      <td>-2.341564</td>\n",
       "      <td>-0.745188</td>\n",
       "      <td>1.004747</td>\n",
       "    </tr>\n",
       "    <tr>\n",
       "      <th>2</th>\n",
       "      <td>-2.783169</td>\n",
       "      <td>-1.283485</td>\n",
       "      <td>-0.489242</td>\n",
       "      <td>-1.106505</td>\n",
       "    </tr>\n",
       "    <tr>\n",
       "      <th>3</th>\n",
       "      <td>0.040951</td>\n",
       "      <td>-0.297875</td>\n",
       "      <td>-0.152728</td>\n",
       "      <td>-0.485294</td>\n",
       "    </tr>\n",
       "    <tr>\n",
       "      <th>4</th>\n",
       "      <td>-0.429799</td>\n",
       "      <td>0.761979</td>\n",
       "      <td>-0.548823</td>\n",
       "      <td>-0.867978</td>\n",
       "    </tr>\n",
       "    <tr>\n",
       "      <th>5</th>\n",
       "      <td>0.896566</td>\n",
       "      <td>1.203453</td>\n",
       "      <td>0.568352</td>\n",
       "      <td>-0.424260</td>\n",
       "    </tr>\n",
       "    <tr>\n",
       "      <th>6</th>\n",
       "      <td>0.032867</td>\n",
       "      <td>0.876635</td>\n",
       "      <td>0.282668</td>\n",
       "      <td>0.095140</td>\n",
       "    </tr>\n",
       "    <tr>\n",
       "      <th>7</th>\n",
       "      <td>0.471008</td>\n",
       "      <td>1.626623</td>\n",
       "      <td>-0.335115</td>\n",
       "      <td>0.658486</td>\n",
       "    </tr>\n",
       "    <tr>\n",
       "      <th>8</th>\n",
       "      <td>0.040951</td>\n",
       "      <td>-0.297875</td>\n",
       "      <td>-0.152728</td>\n",
       "      <td>-0.485294</td>\n",
       "    </tr>\n",
       "  </tbody>\n",
       "</table>\n",
       "</div>"
      ],
      "text/plain": [
       "          A         B         C         D\n",
       "0 -1.932513 -0.161416  0.309668 -0.633800\n",
       "1  0.220893 -2.341564 -0.745188  1.004747\n",
       "2 -2.783169 -1.283485 -0.489242 -1.106505\n",
       "3  0.040951 -0.297875 -0.152728 -0.485294\n",
       "4 -0.429799  0.761979 -0.548823 -0.867978\n",
       "5  0.896566  1.203453  0.568352 -0.424260\n",
       "6  0.032867  0.876635  0.282668  0.095140\n",
       "7  0.471008  1.626623 -0.335115  0.658486\n",
       "8  0.040951 -0.297875 -0.152728 -0.485294"
      ]
     },
     "execution_count": 33,
     "metadata": {},
     "output_type": "execute_result"
    }
   ],
   "source": [
    "df.append(s, ignore_index=True)"
   ]
  },
  {
   "cell_type": "code",
   "execution_count": 34,
   "id": "devoted-addition",
   "metadata": {},
   "outputs": [],
   "source": [
    "ts = pd.Series(np.random.randn(1000), index=pd.date_range('1/1/2000', periods=1000))"
   ]
  },
  {
   "cell_type": "code",
   "execution_count": 35,
   "id": "digital-machinery",
   "metadata": {},
   "outputs": [],
   "source": [
    "ts = ts.cumsum()"
   ]
  },
  {
   "cell_type": "code",
   "execution_count": 36,
   "id": "funky-gothic",
   "metadata": {},
   "outputs": [
    {
     "data": {
      "text/plain": [
       "<AxesSubplot:>"
      ]
     },
     "execution_count": 36,
     "metadata": {},
     "output_type": "execute_result"
    },
    {
     "data": {
      "image/png": "[encoded data removed]",
      "text/plain": [
       "<Figure size 432x288 with 1 Axes>"
      ]
     },
     "metadata": {
      "needs_background": "light"
     },
     "output_type": "display_data"
    }
   ],
   "source": [
    "ts.plot()"
   ]
  },
  {
   "cell_type": "code",
   "execution_count": 37,
   "id": "experienced-consequence",
   "metadata": {},
   "outputs": [
    {
     "data": {
      "text/plain": [
       "Index(['A', 'B', 'C', 'D'], dtype='object')"
      ]
     },
     "execution_count": 37,
     "metadata": {},
     "output_type": "execute_result"
    }
   ],
   "source": [
    "df.columns"
   ]
  }
 ],
 "metadata": {
  "kernelspec": {
   "display_name": "Python 3",
   "language": "python",
   "name": "python3"
  },
  "language_info": {
   "codemirror_mode": {
    "name": "ipython",
    "version": 3
   },
   "file_extension": ".py",
   "mimetype": "text/x-python",
   "name": "python",
   "nbconvert_exporter": "python",
   "pygments_lexer": "ipython3",
   "version": "3.9.2"
  }
 },
 "nbformat": 4,
 "nbformat_minor": 5
}
